{
  "nbformat": 4,
  "nbformat_minor": 0,
  "metadata": {
    "colab": {
      "name": "01_Tokenization_RegExp.ipynb",
      "provenance": []
    },
    "kernelspec": {
      "name": "python3",
      "display_name": "Python 3"
    }
  },
  "cells": [
    {
      "cell_type": "markdown",
      "metadata": {
        "id": "Mpci6mqv5ACa"
      },
      "source": [
        "Examples of Regular Expressions"
      ]
    },
    {
      "cell_type": "code",
      "metadata": {
        "id": "aBHPXuUgsWs-"
      },
      "source": [
        "import re"
      ],
      "execution_count": 1,
      "outputs": []
    },
    {
      "cell_type": "markdown",
      "metadata": {
        "id": "DHzWZ_ZZmbAG"
      },
      "source": [
        "Analysis of Words"
      ]
    },
    {
      "cell_type": "code",
      "metadata": {
        "id": "6B2-dVPnXa_Z"
      },
      "source": [
        "# Example#1\r\n",
        "my_string0 = \"Let's write RegEx\""
      ],
      "execution_count": 2,
      "outputs": []
    },
    {
      "cell_type": "code",
      "metadata": {
        "colab": {
          "base_uri": "https://localhost:8080/"
        },
        "id": "QP0Fe92jYj5X",
        "outputId": "7b30d004-181a-4036-a984-22e4a013e564"
      },
      "source": [
        "# Find all words\r\n",
        "wordToken = r\"\\w+\"  \r\n",
        "\r\n",
        "matches = re.findall(wordToken,my_string0)\r\n",
        "\r\n",
        "for match in matches:\r\n",
        "  print(match)"
      ],
      "execution_count": 3,
      "outputs": [
        {
          "output_type": "stream",
          "text": [
            "Let\n",
            "s\n",
            "write\n",
            "RegEx\n"
          ],
          "name": "stdout"
        }
      ]
    },
    {
      "cell_type": "code",
      "metadata": {
        "id": "5GyXVpgTmlhs"
      },
      "source": [
        "# Example#2\r\n",
        "my_string1 = \"Let's write RegEx!  Won't that be fun?  I sure think so.  Can you find 4 sentences?  Or perhaps, all 19 words?\""
      ],
      "execution_count": 4,
      "outputs": []
    },
    {
      "cell_type": "code",
      "metadata": {
        "colab": {
          "base_uri": "https://localhost:8080/"
        },
        "id": "on5jedLzlyqu",
        "outputId": "04ca7eab-4b06-4ddc-a407-5c9bc60b5452"
      },
      "source": [
        "# Find all capicalized words in my_string and print the result\r\n",
        "capitalized_words = r\"[A-Z]\\w+\"\r\n",
        "print(re.findall(capitalized_words, my_string1))"
      ],
      "execution_count": 5,
      "outputs": [
        {
          "output_type": "stream",
          "text": [
            "['Let', 'RegEx', 'Won', 'Can', 'Or']\n"
          ],
          "name": "stdout"
        }
      ]
    },
    {
      "cell_type": "code",
      "metadata": {
        "id": "_hTWy0zFpL3t"
      },
      "source": [
        "# Function: Print ‘n’ words in a row\r\n",
        "\r\n",
        "def print_words (list_words, numElementsRow):\r\n",
        "  # \r\n",
        "  for j in range (0,len(list_words),numElementsRow):\r\n",
        "    for i in range(j,j+numElementsRow):\r\n",
        "      if ( i >= len(list_words)):\r\n",
        "        break\r\n",
        "      print(i, '.',list_words[i], end=', ')\r\n",
        "    print()\r\n",
        "  print()"
      ],
      "execution_count": 6,
      "outputs": []
    },
    {
      "cell_type": "code",
      "metadata": {
        "colab": {
          "base_uri": "https://localhost:8080/"
        },
        "id": "D9XJBFDXn-k1",
        "outputId": "9919b7e9-0aa9-46fb-cfe9-222f483087cf"
      },
      "source": [
        "# Split my_string on spaces and print the result\r\n",
        "spaces = r\"\\s+\"\r\n",
        "\r\n",
        "list_of_words = re.split(spaces, my_string1)\r\n",
        "\r\n",
        "#print(re.split(spaces, my_string1))\r\n",
        "print_words(list_of_words,5)"
      ],
      "execution_count": 7,
      "outputs": [
        {
          "output_type": "stream",
          "text": [
            "0 . Let's, 1 . write, 2 . RegEx!, 3 . Won't, 4 . that, \n",
            "5 . be, 6 . fun?, 7 . I, 8 . sure, 9 . think, \n",
            "10 . so., 11 . Can, 12 . you, 13 . find, 14 . 4, \n",
            "15 . sentences?, 16 . Or, 17 . perhaps,, 18 . all, 19 . 19, \n",
            "20 . words?, \n",
            "\n"
          ],
          "name": "stdout"
        }
      ]
    },
    {
      "cell_type": "code",
      "metadata": {
        "colab": {
          "base_uri": "https://localhost:8080/"
        },
        "id": "vmiaLpAwqfK3",
        "outputId": "f130cfc9-92cc-467a-e2ff-2d74b38b0cfb"
      },
      "source": [
        "# Find all digits in my_string and print the result\r\n",
        "digits = r\"\\d+\"\r\n",
        "print(re.findall(digits, my_string1))"
      ],
      "execution_count": 8,
      "outputs": [
        {
          "output_type": "stream",
          "text": [
            "['4', '19']\n"
          ],
          "name": "stdout"
        }
      ]
    },
    {
      "cell_type": "code",
      "metadata": {
        "id": "bNeltXYU89py"
      },
      "source": [
        "# Example#2\r\n",
        "my_string1 = \"Let's write RegEx!  Won't that be fun?  I sure think so.  Can you find 4 sentences?  Or perhaps, all 19 words?\""
      ],
      "execution_count": 9,
      "outputs": []
    },
    {
      "cell_type": "code",
      "metadata": {
        "colab": {
          "base_uri": "https://localhost:8080/"
        },
        "id": "lDJuwJk04uG2",
        "outputId": "22e5eb99-516b-407f-8e51-9ded6becccac"
      },
      "source": [
        "# 1. Split my_string on sentence endings and print the result\r\n",
        "sentence_ending = re.compile(r\"[.?!]\")\r\n",
        "\r\n",
        "matches = sentence_ending.finditer(my_string1)\r\n",
        "for match in matches:\r\n",
        "  print(match)"
      ],
      "execution_count": 10,
      "outputs": [
        {
          "output_type": "stream",
          "text": [
            "<_sre.SRE_Match object; span=(17, 18), match='!'>\n",
            "<_sre.SRE_Match object; span=(37, 38), match='?'>\n",
            "<_sre.SRE_Match object; span=(55, 56), match='.'>\n",
            "<_sre.SRE_Match object; span=(82, 83), match='?'>\n",
            "<_sre.SRE_Match object; span=(109, 110), match='?'>\n"
          ],
          "name": "stdout"
        }
      ]
    },
    {
      "cell_type": "code",
      "metadata": {
        "colab": {
          "base_uri": "https://localhost:8080/"
        },
        "id": "5nurD47mOWD3",
        "outputId": "501ef68e-54ca-4e4e-cf6c-5de27632c851"
      },
      "source": [
        "print(re.split(sentence_ending, my_string1))"
      ],
      "execution_count": 11,
      "outputs": [
        {
          "output_type": "stream",
          "text": [
            "[\"Let's write RegEx\", \"  Won't that be fun\", '  I sure think so', '  Can you find 4 sentences', '  Or perhaps, all 19 words', '']\n"
          ],
          "name": "stdout"
        }
      ]
    },
    {
      "cell_type": "code",
      "metadata": {
        "id": "RAz9cVB7UQWA"
      },
      "source": [
        "# Example#2\r\n",
        "my_string2 = 'The URL of Google is www.google.com'"
      ],
      "execution_count": 12,
      "outputs": []
    },
    {
      "cell_type": "code",
      "metadata": {
        "colab": {
          "base_uri": "https://localhost:8080/"
        },
        "id": "x4LFCSftUjOX",
        "outputId": "b409d329-6b0d-4762-894e-d13885912512"
      },
      "source": [
        "# 1. Split my_string on sentence endings and print the result\r\n",
        "sentence_ending = re.compile(r\"[.?!]\")\r\n",
        "\r\n",
        "matches = sentence_ending.finditer(my_string2)\r\n",
        "for match in matches:\r\n",
        "  print(match)"
      ],
      "execution_count": 14,
      "outputs": [
        {
          "output_type": "stream",
          "text": [
            "<_sre.SRE_Match object; span=(24, 25), match='.'>\n",
            "<_sre.SRE_Match object; span=(31, 32), match='.'>\n"
          ],
          "name": "stdout"
        }
      ]
    },
    {
      "cell_type": "code",
      "metadata": {
        "colab": {
          "base_uri": "https://localhost:8080/"
        },
        "id": "8ooP5BTqUnMt",
        "outputId": "d7ccfadb-0c6b-4150-daef-389375ad2b23"
      },
      "source": [
        "print(re.split(sentence_ending, my_string2))"
      ],
      "execution_count": null,
      "outputs": [
        {
          "output_type": "stream",
          "text": [
            "['The URL of Google is www', 'google', 'com']\n"
          ],
          "name": "stdout"
        }
      ]
    },
    {
      "cell_type": "markdown",
      "metadata": {
        "id": "QkXbkHZIugAf"
      },
      "source": [
        "NLTK Tokenizer"
      ]
    },
    {
      "cell_type": "code",
      "metadata": {
        "colab": {
          "resources": {
            "http://localhost:8080/nbextensions/google.colab/files.js": {
              "data": "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",
              "ok": true,
              "headers": [
                [
                  "content-type",
                  "application/javascript"
                ]
              ],
              "status": 200,
              "status_text": ""
            }
          },
          "base_uri": "https://localhost:8080/",
          "height": 110
        },
        "id": "nydANcgnpQgm",
        "outputId": "481118c0-2515-4ebf-c6b5-c336379796b3"
      },
      "source": [
        "from google.colab import files\r\n",
        "files.upload()"
      ],
      "execution_count": 18,
      "outputs": [
        {
          "output_type": "display_data",
          "data": {
            "text/html": [
              "\n",
              "     <input type=\"file\" id=\"files-9936e17a-b539-42af-86eb-898e8cc83a90\" name=\"files[]\" multiple disabled\n",
              "        style=\"border:none\" />\n",
              "     <output id=\"result-9936e17a-b539-42af-86eb-898e8cc83a90\">\n",
              "      Upload widget is only available when the cell has been executed in the\n",
              "      current browser session. Please rerun this cell to enable.\n",
              "      </output>\n",
              "      <script src=\"/nbextensions/google.colab/files.js\"></script> "
            ],
            "text/plain": [
              "<IPython.core.display.HTML object>"
            ]
          },
          "metadata": {
            "tags": []
          }
        },
        {
          "output_type": "stream",
          "text": [
            "Saving grail.txt to grail (1).txt\n"
          ],
          "name": "stdout"
        },
        {
          "output_type": "execute_result",
          "data": {
            "text/plain": [
              "{'grail.txt': b'\"SCENE 1: [wind] [clop clop clop] \\\\nKING ARTHUR: Whoa there!  [clop clop clop] \\\\nSOLDIER #1: Halt!  Who goes there?\\\\nARTHUR: It is I, Arthur, son of Uther Pendragon, from the castle of Camelot.  King of the Britons, defeator of the Saxons, sovereign of all England!\\\\nSOLDIER #1: Pull the other one!\\\\nARTHUR: I am, ...  and this is my trusty servant Patsy.  We have ridden the length and breadth of the land in search of knights who will join me in my court at Camelot.  I must speak with your lord and master.\\\\nSOLDIER #1: What?  Ridden on a horse?\\\\nARTHUR: Yes!\\\\nSOLDIER #1: You\\'re using coconuts!\\\\nARTHUR: What?\\\\nSOLDIER #1: You\\'ve got two empty halves of coconut and you\\'re bangin\\' \\'em together.\\\\nARTHUR: So?  We have ridden since the snows of winter covered this land, through the kingdom of Mercea, through--\\\\nSOLDIER #1: Where\\'d you get the coconuts?\\\\nARTHUR: We found them.\\\\nSOLDIER #1: Found them?  In Mercea?  The coconut\\'s tropical!\\\\nARTHUR: What do you mean?\\\\nSOLDIER #1: Well, this is a temperate zone.\\\\nARTHUR: The swallow may fly south with the sun or the house martin or the plover may seek warmer climes in winter, yet these are not strangers to our land?\\\\nSOLDIER #1: Are you suggesting coconuts migrate?\\\\nARTHUR: Not at all.  They could be carried.\\\\nSOLDIER #1: What?  A swallow carrying a coconut?\\\\nARTHUR: It could grip it by the husk!\\\\nSOLDIER #1: It\\'s not a question of where he grips it!  It\\'s a simple question of weight ratios!  A five ounce bird could not carry a one pound coconut.\\\\nARTHUR: Well, it doesn\\'t matter.  Will you go and tell your master that Arthur from the Court of Camelot is here.\\\\nSOLDIER #1: Listen.  In order to maintain air-speed velocity, a swallow needs to beat its wings forty-three times every second, right?\\\\nARTHUR: Please!\\\\nSOLDIER #1: Am I right?\\\\nARTHUR: I\\'m not interested!\\\\nSOLDIER #2: It could be carried by an African swallow!\\\\nSOLDIER #1: Oh, yeah, an African swallow maybe, but not a European swallow.  That\\'s my point.\\\\nSOLDIER #2: Oh, yeah, I agree with that.\\\\nARTHUR: Will you ask your master if he wants to join my court at Camelot?!\\\\nSOLDIER #1: But then of course a-- African swallows are non-migratory.\\\\nSOLDIER #2: Oh, yeah...\\\\nSOLDIER #1: So they couldn\\'t bring a coconut back anyway...  [clop clop clop] \\\\nSOLDIER #2: Wait a minute!  Supposing two swallows carried it together?\\\\nSOLDIER #1: No, they\\'d have to have it on a line.\\\\nSOLDIER #2: Well, simple!  They\\'d just use a strand of creeper!\\\\nSOLDIER #1: What, held under the dorsal guiding feathers?\\\\nSOLDIER #2: Well, why not?\\\\n\"'}"
            ]
          },
          "metadata": {
            "tags": []
          },
          "execution_count": 18
        }
      ]
    },
    {
      "cell_type": "code",
      "metadata": {
        "colab": {
          "base_uri": "https://localhost:8080/"
        },
        "id": "zSK5AtJtpQkN",
        "outputId": "52162c6a-0587-48d9-ae5d-625705c13b2c"
      },
      "source": [
        "!ls"
      ],
      "execution_count": 19,
      "outputs": [
        {
          "output_type": "stream",
          "text": [
            "'grail (1).txt'   grail.txt   sample_data\n"
          ],
          "name": "stdout"
        }
      ]
    },
    {
      "cell_type": "code",
      "metadata": {
        "colab": {
          "base_uri": "https://localhost:8080/"
        },
        "id": "_HnN03Pc8iI0",
        "outputId": "f3978ead-56cb-4ab4-96ae-2032f7f255eb"
      },
      "source": [
        "with open('grail.txt', 'r') as file:\r\n",
        "    holy_grail = file.read()\r\n",
        "    scene_one = re.split('SCENE 2:', holy_grail)[0]\r\n",
        "\r\n",
        "print(scene_one)"
      ],
      "execution_count": 22,
      "outputs": [
        {
          "output_type": "stream",
          "text": [
            "\"SCENE 1: [wind] [clop clop clop] \\nKING ARTHUR: Whoa there!  [clop clop clop] \\nSOLDIER #1: Halt!  Who goes there?\\nARTHUR: It is I, Arthur, son of Uther Pendragon, from the castle of Camelot.  King of the Britons, defeator of the Saxons, sovereign of all England!\\nSOLDIER #1: Pull the other one!\\nARTHUR: I am, ...  and this is my trusty servant Patsy.  We have ridden the length and breadth of the land in search of knights who will join me in my court at Camelot.  I must speak with your lord and master.\\nSOLDIER #1: What?  Ridden on a horse?\\nARTHUR: Yes!\\nSOLDIER #1: You're using coconuts!\\nARTHUR: What?\\nSOLDIER #1: You've got two empty halves of coconut and you're bangin' 'em together.\\nARTHUR: So?  We have ridden since the snows of winter covered this land, through the kingdom of Mercea, through--\\nSOLDIER #1: Where'd you get the coconuts?\\nARTHUR: We found them.\\nSOLDIER #1: Found them?  In Mercea?  The coconut's tropical!\\nARTHUR: What do you mean?\\nSOLDIER #1: Well, this is a temperate zone.\\nARTHUR: The swallow may fly south with the sun or the house martin or the plover may seek warmer climes in winter, yet these are not strangers to our land?\\nSOLDIER #1: Are you suggesting coconuts migrate?\\nARTHUR: Not at all.  They could be carried.\\nSOLDIER #1: What?  A swallow carrying a coconut?\\nARTHUR: It could grip it by the husk!\\nSOLDIER #1: It's not a question of where he grips it!  It's a simple question of weight ratios!  A five ounce bird could not carry a one pound coconut.\\nARTHUR: Well, it doesn't matter.  Will you go and tell your master that Arthur from the Court of Camelot is here.\\nSOLDIER #1: Listen.  In order to maintain air-speed velocity, a swallow needs to beat its wings forty-three times every second, right?\\nARTHUR: Please!\\nSOLDIER #1: Am I right?\\nARTHUR: I'm not interested!\\nSOLDIER #2: It could be carried by an African swallow!\\nSOLDIER #1: Oh, yeah, an African swallow maybe, but not a European swallow.  That's my point.\\nSOLDIER #2: Oh, yeah, I agree with that.\\nARTHUR: Will you ask your master if he wants to join my court at Camelot?!\\nSOLDIER #1: But then of course a-- African swallows are non-migratory.\\nSOLDIER #2: Oh, yeah...\\nSOLDIER #1: So they couldn't bring a coconut back anyway...  [clop clop clop] \\nSOLDIER #2: Wait a minute!  Supposing two swallows carried it together?\\nSOLDIER #1: No, they'd have to have it on a line.\\nSOLDIER #2: Well, simple!  They'd just use a strand of creeper!\\nSOLDIER #1: What, held under the dorsal guiding feathers?\\nSOLDIER #2: Well, why not?\\n\"\n"
          ],
          "name": "stdout"
        }
      ]
    },
    {
      "cell_type": "code",
      "metadata": {
        "id": "l-PCgbeqpQoE",
        "colab": {
          "base_uri": "https://localhost:8080/"
        },
        "outputId": "6d0d092f-45f8-4256-ea1a-17c0de9d982c"
      },
      "source": [
        "with open('grail.txt', 'r') as file:\r\n",
        "    holy_grail = file.read()\r\n",
        "    scene_one = re.split('SCENE 2:', holy_grail)[0]\r\n",
        "\r\n",
        "print(type(scene_one))\r\n",
        "print(scene_one)"
      ],
      "execution_count": 24,
      "outputs": [
        {
          "output_type": "stream",
          "text": [
            "<class 'str'>\n",
            "\"SCENE 1: [wind] [clop clop clop] \\nKING ARTHUR: Whoa there!  [clop clop clop] \\nSOLDIER #1: Halt!  Who goes there?\\nARTHUR: It is I, Arthur, son of Uther Pendragon, from the castle of Camelot.  King of the Britons, defeator of the Saxons, sovereign of all England!\\nSOLDIER #1: Pull the other one!\\nARTHUR: I am, ...  and this is my trusty servant Patsy.  We have ridden the length and breadth of the land in search of knights who will join me in my court at Camelot.  I must speak with your lord and master.\\nSOLDIER #1: What?  Ridden on a horse?\\nARTHUR: Yes!\\nSOLDIER #1: You're using coconuts!\\nARTHUR: What?\\nSOLDIER #1: You've got two empty halves of coconut and you're bangin' 'em together.\\nARTHUR: So?  We have ridden since the snows of winter covered this land, through the kingdom of Mercea, through--\\nSOLDIER #1: Where'd you get the coconuts?\\nARTHUR: We found them.\\nSOLDIER #1: Found them?  In Mercea?  The coconut's tropical!\\nARTHUR: What do you mean?\\nSOLDIER #1: Well, this is a temperate zone.\\nARTHUR: The swallow may fly south with the sun or the house martin or the plover may seek warmer climes in winter, yet these are not strangers to our land?\\nSOLDIER #1: Are you suggesting coconuts migrate?\\nARTHUR: Not at all.  They could be carried.\\nSOLDIER #1: What?  A swallow carrying a coconut?\\nARTHUR: It could grip it by the husk!\\nSOLDIER #1: It's not a question of where he grips it!  It's a simple question of weight ratios!  A five ounce bird could not carry a one pound coconut.\\nARTHUR: Well, it doesn't matter.  Will you go and tell your master that Arthur from the Court of Camelot is here.\\nSOLDIER #1: Listen.  In order to maintain air-speed velocity, a swallow needs to beat its wings forty-three times every second, right?\\nARTHUR: Please!\\nSOLDIER #1: Am I right?\\nARTHUR: I'm not interested!\\nSOLDIER #2: It could be carried by an African swallow!\\nSOLDIER #1: Oh, yeah, an African swallow maybe, but not a European swallow.  That's my point.\\nSOLDIER #2: Oh, yeah, I agree with that.\\nARTHUR: Will you ask your master if he wants to join my court at Camelot?!\\nSOLDIER #1: But then of course a-- African swallows are non-migratory.\\nSOLDIER #2: Oh, yeah...\\nSOLDIER #1: So they couldn't bring a coconut back anyway...  [clop clop clop] \\nSOLDIER #2: Wait a minute!  Supposing two swallows carried it together?\\nSOLDIER #1: No, they'd have to have it on a line.\\nSOLDIER #2: Well, simple!  They'd just use a strand of creeper!\\nSOLDIER #1: What, held under the dorsal guiding feathers?\\nSOLDIER #2: Well, why not?\\n\"\n"
          ],
          "name": "stdout"
        }
      ]
    },
    {
      "cell_type": "code",
      "metadata": {
        "colab": {
          "base_uri": "https://localhost:8080/"
        },
        "id": "fjKgX4WZrOz5",
        "outputId": "ed9e9a67-9ce9-4974-fb19-849cd175ce17"
      },
      "source": [
        "import nltk\r\n",
        "nltk.download('punkt')"
      ],
      "execution_count": 25,
      "outputs": [
        {
          "output_type": "stream",
          "text": [
            "[nltk_data] Downloading package punkt to /root/nltk_data...\n",
            "[nltk_data]   Unzipping tokenizers/punkt.zip.\n"
          ],
          "name": "stdout"
        },
        {
          "output_type": "execute_result",
          "data": {
            "text/plain": [
              "True"
            ]
          },
          "metadata": {
            "tags": []
          },
          "execution_count": 25
        }
      ]
    },
    {
      "cell_type": "code",
      "metadata": {
        "id": "EF_oq_oCpQr8"
      },
      "source": [
        "from nltk.tokenize import word_tokenize, sent_tokenize"
      ],
      "execution_count": 26,
      "outputs": []
    },
    {
      "cell_type": "code",
      "metadata": {
        "colab": {
          "base_uri": "https://localhost:8080/"
        },
        "id": "8PQTE_FBwOdW",
        "outputId": "4e28deda-3407-4cf6-8156-e2085ae2bded"
      },
      "source": [
        "# Split scene_one into sentences: sentences\r\n",
        "sentences = sent_tokenize(scene_one)\r\n",
        "print_words(sentences,1)"
      ],
      "execution_count": 27,
      "outputs": [
        {
          "output_type": "stream",
          "text": [
            "0 . \"SCENE 1: [wind] [clop clop clop] \\nKING ARTHUR: Whoa there!, \n",
            "1 . [clop clop clop] \\nSOLDIER #1: Halt!, \n",
            "2 . Who goes there?\\nARTHUR: It is I, Arthur, son of Uther Pendragon, from the castle of Camelot., \n",
            "3 . King of the Britons, defeator of the Saxons, sovereign of all England!\\nSOLDIER #1: Pull the other one!\\nARTHUR: I am, ...  and this is my trusty servant Patsy., \n",
            "4 . We have ridden the length and breadth of the land in search of knights who will join me in my court at Camelot., \n",
            "5 . I must speak with your lord and master.\\nSOLDIER #1: What?, \n",
            "6 . Ridden on a horse?\\nARTHUR: Yes!\\nSOLDIER #1: You're using coconuts!\\nARTHUR: What?\\nSOLDIER #1: You've got two empty halves of coconut and you're bangin' 'em together.\\nARTHUR: So?, \n",
            "7 . We have ridden since the snows of winter covered this land, through the kingdom of Mercea, through--\\nSOLDIER #1: Where'd you get the coconuts?\\nARTHUR: We found them.\\nSOLDIER #1: Found them?, \n",
            "8 . In Mercea?, \n",
            "9 . The coconut's tropical!\\nARTHUR: What do you mean?\\nSOLDIER #1: Well, this is a temperate zone.\\nARTHUR: The swallow may fly south with the sun or the house martin or the plover may seek warmer climes in winter, yet these are not strangers to our land?\\nSOLDIER #1: Are you suggesting coconuts migrate?\\nARTHUR: Not at all., \n",
            "10 . They could be carried.\\nSOLDIER #1: What?, \n",
            "11 . A swallow carrying a coconut?\\nARTHUR: It could grip it by the husk!\\nSOLDIER #1: It's not a question of where he grips it!, \n",
            "12 . It's a simple question of weight ratios!, \n",
            "13 . A five ounce bird could not carry a one pound coconut.\\nARTHUR: Well, it doesn't matter., \n",
            "14 . Will you go and tell your master that Arthur from the Court of Camelot is here.\\nSOLDIER #1: Listen., \n",
            "15 . In order to maintain air-speed velocity, a swallow needs to beat its wings forty-three times every second, right?\\nARTHUR: Please!\\nSOLDIER #1: Am I right?\\nARTHUR: I'm not interested!\\nSOLDIER #2: It could be carried by an African swallow!\\nSOLDIER #1: Oh, yeah, an African swallow maybe, but not a European swallow., \n",
            "16 . That's my point.\\nSOLDIER #2: Oh, yeah, I agree with that.\\nARTHUR: Will you ask your master if he wants to join my court at Camelot?, \n",
            "17 . !\\nSOLDIER #1: But then of course a-- African swallows are non-migratory.\\nSOLDIER #2: Oh, yeah...\\nSOLDIER #1: So they couldn't bring a coconut back anyway...  [clop clop clop] \\nSOLDIER #2: Wait a minute!, \n",
            "18 . Supposing two swallows carried it together?\\nSOLDIER #1: No, they'd have to have it on a line.\\nSOLDIER #2: Well, simple!, \n",
            "19 . They'd just use a strand of creeper!\\nSOLDIER #1: What, held under the dorsal guiding feathers?\\nSOLDIER #2: Well, why not?\\n\", \n",
            "\n"
          ],
          "name": "stdout"
        }
      ]
    },
    {
      "cell_type": "code",
      "metadata": {
        "colab": {
          "base_uri": "https://localhost:8080/"
        },
        "id": "x0W425xqwD3f",
        "outputId": "b40f12e3-8b92-4dd7-c423-22c951c737ff"
      },
      "source": [
        "# Use word_tokenize to tokenize the third sentence: tokenized_sent\r\n",
        "tokenized_sent = word_tokenize(sentences[2])\r\n",
        "print_words(tokenized_sent,5)"
      ],
      "execution_count": 28,
      "outputs": [
        {
          "output_type": "stream",
          "text": [
            "0 . Who, 1 . goes, 2 . there, 3 . ?, 4 . \\nARTHUR, \n",
            "5 . :, 6 . It, 7 . is, 8 . I, 9 . ,, \n",
            "10 . Arthur, 11 . ,, 12 . son, 13 . of, 14 . Uther, \n",
            "15 . Pendragon, 16 . ,, 17 . from, 18 . the, 19 . castle, \n",
            "20 . of, 21 . Camelot, 22 . ., \n",
            "\n"
          ],
          "name": "stdout"
        }
      ]
    },
    {
      "cell_type": "code",
      "metadata": {
        "id": "tb75YFyHwD7O"
      },
      "source": [
        "# Make a set of unique tokens in the entire scene: unique_tokens\r\n",
        "unique_tokens = set(word_tokenize(scene_one))\r\n",
        "#print(unique_tokens)"
      ],
      "execution_count": 29,
      "outputs": []
    },
    {
      "cell_type": "code",
      "metadata": {
        "colab": {
          "base_uri": "https://localhost:8080/"
        },
        "id": "3Y_p0-9kwD_X",
        "outputId": "dec2ff71-fa36-4082-8de7-16c5655d1c88"
      },
      "source": [
        "# Print the unique tokens result\r\n",
        "print_words(list(unique_tokens),5)"
      ],
      "execution_count": 30,
      "outputs": [
        {
          "output_type": "stream",
          "text": [
            "0 . other, 1 . 1, 2 . and, 3 . together.\\nARTHUR, 4 . where, \n",
            "5 . here.\\nSOLDIER, 6 . carried.\\nSOLDIER, 7 . it, 8 . Am, 9 . halves, \n",
            "10 . they, 11 . [, 12 . do, 13 . on, 14 . A, \n",
            "15 . 'm, 16 . swallows, 17 . not, 18 . suggesting, 19 . castle, \n",
            "20 . that, 21 . feathers, 22 . son, 23 . since, 24 . minute, \n",
            "25 . mean, 26 . why, 27 . will, 28 . your, 29 . using, \n",
            "30 . these, 31 . carry, 32 . climes, 33 . carrying, 34 . but, \n",
            "35 . line.\\nSOLDIER, 36 . are, 37 . tropical, 38 . Listen, 39 . an, \n",
            "40 . coconut.\\nARTHUR, 41 . zone.\\nARTHUR, 42 . there, 43 . ARTHUR, 44 . ,, \n",
            "45 . length, 46 . simple, 47 . dorsal, 48 . agree, 49 . wants, \n",
            "50 . Pendragon, 51 . 2, 52 . \\nKING, 53 . Britons, 54 . needs, \n",
            "55 . get, 56 . covered, 57 . join, 58 . found, 59 . a, \n",
            "60 . Patsy, 61 . sun, 62 . in, 63 . he, 64 . that.\\nARTHUR, \n",
            "65 . You, 66 . have, 67 . What, 68 . Whoa, 69 . land, \n",
            "70 . --, 71 . yeah, 72 . European, 73 . south, 74 . me, \n",
            "75 . by, 76 . \\nARTHUR, 77 . at, 78 . must, 79 . It, \n",
            "80 . Where, 81 . ], 82 . got, 83 . '', 84 . be, \n",
            "85 . Oh, 86 . Arthur, 87 . Ridden, 88 . weight, 89 . non-migratory.\\nSOLDIER, \n",
            "90 . together, 91 . lord, 92 . 's, 93 . second, 94 . breadth, \n",
            "95 . 're, 96 . Are, 97 . n't, 98 . trusty, 99 . So, \n",
            "100 . does, 101 . one, 102 . warmer, 103 . coconut, 104 . Found, \n",
            "105 . SCENE, 106 . of, 107 . kingdom, 108 . master, 109 . wind, \n",
            "110 . you, 111 . \\n, 112 . bring, 113 . temperate, 114 . is, \n",
            "115 . Well, 116 . all, 117 . Uther, 118 . them, 119 . pound, \n",
            "120 . maybe, 121 . That, 122 . just, 123 . ``, 124 . 've, \n",
            "125 . every, 126 . martin, 127 . interested, 128 . our, 129 . clop, \n",
            "130 . court, 131 . anyway, 132 . air-speed, 133 . grip, 134 . right, \n",
            "135 . if, 136 . Camelot, 137 . course, 138 . King, 139 . ounce, \n",
            "140 . could, 141 . master.\\nSOLDIER, 142 . In, 143 . migrate, 144 . velocity, \n",
            "145 . Supposing, 146 . tell, 147 . strand, 148 . The, 149 . We, \n",
            "150 . to, 151 . my, 152 . Wait, 153 . use, 154 . knights, \n",
            "155 . them.\\nSOLDIER, 156 . ?, 157 . #, 158 . or, 159 . wings, \n",
            "160 . five, 161 . carried, 162 . But, 163 . under, 164 . servant, \n",
            "165 . then, 166 . England, 167 . from, 168 . empty, 169 . Pull, \n",
            "170 . No, 171 . ridden, 172 . !, 173 . husk, 174 . Please, \n",
            "175 . :, 176 . beat, 177 . ., 178 . the, 179 . They, \n",
            "180 . defeator, 181 . Court, 182 . question, 183 . matter, 184 . through, \n",
            "185 . speak, 186 . held, 187 . I, 188 . Will, 189 . snows, \n",
            "190 . grips, 191 . bird, 192 . ask, 193 . guiding, 194 . African, \n",
            "195 . Mercea, 196 . creeper, 197 . two, 198 . horse, 199 . sovereign, \n",
            "200 . who, 201 . fly, 202 . times, 203 . house, 204 . ratios, \n",
            "205 . ..., 206 . back, 207 . go, 208 . may, 209 . search, \n",
            "210 . winter, 211 . Who, 212 . bangin, 213 . am, 214 . Halt, \n",
            "215 . its, 216 . 'd, 217 . seek, 218 . coconuts, 219 . swallow, \n",
            "220 . Not, 221 . \\nSOLDIER, 222 . plover, 223 . goes, 224 . point.\\nSOLDIER, \n",
            "225 . yet, 226 . order, 227 . 'em, 228 . this, 229 . ', \n",
            "230 . Saxons, 231 . forty-three, 232 . with, 233 . Yes, 234 . maintain, \n",
            "235 . strangers, \n",
            "\n"
          ],
          "name": "stdout"
        }
      ]
    },
    {
      "cell_type": "markdown",
      "metadata": {
        "id": "JTDVIUWT4zyA"
      },
      "source": [
        "Match Regular Expressions"
      ]
    },
    {
      "cell_type": "code",
      "metadata": {
        "colab": {
          "base_uri": "https://localhost:8080/"
        },
        "id": "_irb1FR2pQwE",
        "outputId": "cbdade7a-66fa-43e2-e1ce-a7702365a4fb"
      },
      "source": [
        "match = re.search(\"coconuts\", scene_one)\r\n",
        "\r\n",
        "# Print the start and end indexes of match\r\n",
        "print(match.start(), match.end())\r\n",
        "\r\n",
        "print(scene_one[589:597])"
      ],
      "execution_count": 31,
      "outputs": [
        {
          "output_type": "stream",
          "text": [
            "589 597\n",
            "coconuts\n"
          ],
          "name": "stdout"
        }
      ]
    },
    {
      "cell_type": "markdown",
      "metadata": {
        "id": "8pP7cQmYswMb"
      },
      "source": [
        "Advanced Tokenization with NLTK and regex"
      ]
    },
    {
      "cell_type": "code",
      "metadata": {
        "id": "UL_euVmJt-Tw"
      },
      "source": [
        "from pprint import pprint\r\n",
        "\r\n",
        "from nltk.tokenize import regexp_tokenize"
      ],
      "execution_count": null,
      "outputs": []
    },
    {
      "cell_type": "code",
      "metadata": {
        "id": "y09mMTgVsKaz"
      },
      "source": [
        "my_string = \"SOLDIER #1: Found them? In Mercea? The coconut's tropical!\""
      ],
      "execution_count": null,
      "outputs": []
    },
    {
      "cell_type": "code",
      "metadata": {
        "id": "hHVZ3ukEB3xU"
      },
      "source": [
        "pattern1 = r'(\\\\w+|\\\\?|!)'\r\n",
        "pattern2 = r\"(\\w+|#\\d|\\?|!)\"\r\n",
        "pattern3 = r'(#\\\\d\\\\w+\\\\?!)'\r\n",
        "pattern4 = r'\\\\s+'"
      ],
      "execution_count": null,
      "outputs": []
    },
    {
      "cell_type": "code",
      "metadata": {
        "colab": {
          "base_uri": "https://localhost:8080/"
        },
        "id": "TyJIP3HVsKd6",
        "outputId": "7be14ea3-011c-49a2-81ec-9df4429d4ea3"
      },
      "source": [
        "pprint(regexp_tokenize(my_string, pattern3))"
      ],
      "execution_count": null,
      "outputs": [
        {
          "output_type": "stream",
          "text": [
            "[]\n"
          ],
          "name": "stdout"
        }
      ]
    },
    {
      "cell_type": "code",
      "metadata": {
        "colab": {
          "base_uri": "https://localhost:8080/"
        },
        "id": "fNGhCrGwGVr-",
        "outputId": "a47e76c1-e2f9-4525-fa18-f92f904841ec"
      },
      "source": [
        "pprint(regexp_tokenize(my_string, pattern4))"
      ],
      "execution_count": null,
      "outputs": [
        {
          "output_type": "stream",
          "text": [
            "[]\n"
          ],
          "name": "stdout"
        }
      ]
    },
    {
      "cell_type": "code",
      "metadata": {
        "id": "XkspBZ_1sKhp"
      },
      "source": [
        "# Three tweets\r\n",
        "tweets = ['This is the best #nlp exercise ive found online! #python',\r\n",
        " '#NLP is super fun! <3 #learning',\r\n",
        " 'Thanks @chapman :) #nlp #python']"
      ],
      "execution_count": null,
      "outputs": []
    },
    {
      "cell_type": "code",
      "metadata": {
        "id": "6TBnPY8mG6Ue"
      },
      "source": [
        "from nltk.tokenize import regexp_tokenize, TweetTokenizer"
      ],
      "execution_count": null,
      "outputs": []
    },
    {
      "cell_type": "code",
      "metadata": {
        "id": "-Xq6_plysKk5"
      },
      "source": [
        "# Define a regex pattern to find hashtags: pattern1\r\n",
        "pattern1 = r\"#\\w+\""
      ],
      "execution_count": null,
      "outputs": []
    },
    {
      "cell_type": "code",
      "metadata": {
        "colab": {
          "base_uri": "https://localhost:8080/"
        },
        "id": "QfsKfkkTHSsq",
        "outputId": "efca446f-b8f0-44ce-8847-e022ac2fa036"
      },
      "source": [
        "print(tweets[0])"
      ],
      "execution_count": null,
      "outputs": [
        {
          "output_type": "stream",
          "text": [
            "This is the best #nlp exercise ive found online! #python\n"
          ],
          "name": "stdout"
        }
      ]
    },
    {
      "cell_type": "code",
      "metadata": {
        "colab": {
          "base_uri": "https://localhost:8080/"
        },
        "id": "ach3fNdOHFGF",
        "outputId": "2bb64147-b3ae-4c7c-d50d-38bfc7d8f7de"
      },
      "source": [
        "# Use the pattern on the first tweet in the tweets list\r\n",
        "hashtags = regexp_tokenize(tweets[0], pattern1)\r\n",
        "print(hashtags)"
      ],
      "execution_count": null,
      "outputs": [
        {
          "output_type": "stream",
          "text": [
            "['#nlp', '#python']\n"
          ],
          "name": "stdout"
        }
      ]
    },
    {
      "cell_type": "code",
      "metadata": {
        "id": "lavQe-jzsKot"
      },
      "source": [
        "pattern2 = r\"[@|#]\\w+\""
      ],
      "execution_count": null,
      "outputs": []
    },
    {
      "cell_type": "code",
      "metadata": {
        "colab": {
          "base_uri": "https://localhost:8080/"
        },
        "id": "AC4RioiuIQrP",
        "outputId": "f81b46fe-c0ad-4427-8bdf-d6c441174b81"
      },
      "source": [
        "print(tweets[-1])"
      ],
      "execution_count": null,
      "outputs": [
        {
          "output_type": "stream",
          "text": [
            "Thanks @chapman :) #nlp #python\n"
          ],
          "name": "stdout"
        }
      ]
    },
    {
      "cell_type": "code",
      "metadata": {
        "colab": {
          "base_uri": "https://localhost:8080/"
        },
        "id": "fkQzwJ1tIqBV",
        "outputId": "386f93f5-a955-4d02-f504-0d1652960fa0"
      },
      "source": [
        "# Use the pattern on the last tweet in the tweets list\r\n",
        "mentions_hashtags = regexp_tokenize(tweets[-1], pattern2)\r\n",
        "print(mentions_hashtags)"
      ],
      "execution_count": null,
      "outputs": [
        {
          "output_type": "stream",
          "text": [
            "['@chapman', '#nlp', '#python']\n"
          ],
          "name": "stdout"
        }
      ]
    },
    {
      "cell_type": "code",
      "metadata": {
        "colab": {
          "base_uri": "https://localhost:8080/"
        },
        "id": "ORi7LBM-sKwu",
        "outputId": "4f92bdf9-051b-4241-b6a3-227859c0b50c"
      },
      "source": [
        "tknzr = TweetTokenizer()\r\n",
        "all_tokens = [tknzr.tokenize(t) for t in tweets]\r\n",
        "print_words(all_tokens,1)"
      ],
      "execution_count": null,
      "outputs": [
        {
          "output_type": "stream",
          "text": [
            "0 . ['This', 'is', 'the', 'best', '#nlp', 'exercise', 'ive', 'found', 'online', '!', '#python'], \n",
            "1 . ['#NLP', 'is', 'super', 'fun', '!', '<3', '#learning'], \n",
            "2 . ['Thanks', '@chapman', ':)', '#nlp', '#python'], \n",
            "\n"
          ],
          "name": "stdout"
        }
      ]
    },
    {
      "cell_type": "markdown",
      "metadata": {
        "id": "ZGxUmqE5A7KG"
      },
      "source": [
        "Non-ascii tokenization"
      ]
    },
    {
      "cell_type": "code",
      "metadata": {
        "id": "z9UZVmzCvWG6"
      },
      "source": [
        "german_text = 'Wann gehen wir Pizza essen? 🍕 Und fährst du mit Über? 🚕'"
      ],
      "execution_count": null,
      "outputs": []
    },
    {
      "cell_type": "code",
      "metadata": {
        "colab": {
          "base_uri": "https://localhost:8080/"
        },
        "id": "Zcrj4vgdvWK2",
        "outputId": "16e5085c-36c3-4ec9-9fbd-8d37a1428fd1"
      },
      "source": [
        "all_words = word_tokenize(german_text)\r\n",
        "print(all_words)\r\n",
        "\r\n",
        "# Tokenize and print only capital words\r\n",
        "capital_words = r\"[A-ZÜ]\\w+\"\r\n",
        "print(regexp_tokenize(german_text, capital_words))\r\n",
        "\r\n",
        "# Tokenize and print only emoji\r\n",
        "emoji = \"['\\U0001F300-\\U0001F5FF'|'\\U0001F600-\\U0001F64F'|'\\U0001F680-\\U0001F6FF'|'\\u2600-\\u26FF\\u2700-\\u27BF']\"\r\n",
        "print(regexp_tokenize(german_text, emoji))"
      ],
      "execution_count": null,
      "outputs": [
        {
          "output_type": "stream",
          "text": [
            "['Wann', 'gehen', 'wir', 'Pizza', 'essen', '?', '🍕', 'Und', 'fährst', 'du', 'mit', 'Über', '?', '🚕']\n",
            "['Wann', 'Pizza', 'Und', 'Über']\n",
            "['🍕', '🚕']\n"
          ],
          "name": "stdout"
        }
      ]
    },
    {
      "cell_type": "markdown",
      "metadata": {
        "id": "PU3ViTt3Bg7d"
      },
      "source": [
        "Charting Word Length with NLTK"
      ]
    },
    {
      "cell_type": "code",
      "metadata": {
        "colab": {
          "base_uri": "https://localhost:8080/",
          "height": 499
        },
        "id": "r9CjHC-0vWOv",
        "outputId": "1caa9a7b-493e-49be-8fe4-8ad1f549ab06"
      },
      "source": [
        "import matplotlib.pyplot as plt\r\n",
        "\r\n",
        "# Split the script into lines: lines\r\n",
        "lines = holy_grail.split('\\n')\r\n",
        "\r\n",
        "# Replace all script lines for speaker\r\n",
        "pattern = \"[A-Z]{2,}(\\s)?(#\\d)?([A-Z]{2,})?:\"\r\n",
        "lines = [re.sub(pattern, '', l) for l in lines]\r\n",
        "\r\n",
        "# Tokenize each line: tokenized_lines\r\n",
        "tokenized_lines = [regexp_tokenize(s, '\\w+') for s in lines]\r\n",
        "\r\n",
        "# Make a frequency list of lengths: line_num_words\r\n",
        "line_num_words = [len(t_line) for t_line in tokenized_lines]\r\n",
        "\r\n",
        "# Plot a histogram of the line lengths\r\n",
        "plt.figure(figsize=(8,8))\r\n",
        "plt.hist(line_num_words);\r\n",
        "plt.title('# of words per line in holy_grail');"
      ],
      "execution_count": null,
      "outputs": [
        {
          "output_type": "display_data",
          "data": {
            "image/png": "[encoded data removed]",
            "text/plain": [
              "<Figure size 576x576 with 1 Axes>"
            ]
          },
          "metadata": {
            "tags": [],
            "needs_background": "light"
          }
        }
      ]
    }
  ]
}