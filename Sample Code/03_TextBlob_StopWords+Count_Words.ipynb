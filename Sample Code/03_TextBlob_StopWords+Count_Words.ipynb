{
  "nbformat": 4,
  "nbformat_minor": 0,
  "metadata": {
    "colab": {
      "provenance": []
    },
    "kernelspec": {
      "name": "python3",
      "display_name": "Python 3"
    }
  },
  "cells": [
    {
      "cell_type": "code",
      "metadata": {
        "id": "hSzdFR4j3Wl7",
        "outputId": "f5dde6ec-c4d9-4d9a-ab9d-3ca2e5b3cd7b",
        "colab": {
          "base_uri": "https://localhost:8080/"
        }
      },
      "source": [
        "#1\n",
        "from textblob import TextBlob\n",
        "import nltk\n",
        "nltk.download('punkt')\n",
        "nltk.download('brown')\n",
        "nltk.download('stopwords')\n",
        "from nltk.corpus import stopwords"
      ],
      "execution_count": null,
      "outputs": [
        {
          "output_type": "stream",
          "name": "stderr",
          "text": [
            "[nltk_data] Downloading package punkt to /root/nltk_data...\n",
            "[nltk_data]   Unzipping tokenizers/punkt.zip.\n",
            "[nltk_data] Downloading package brown to /root/nltk_data...\n",
            "[nltk_data]   Unzipping corpora/brown.zip.\n",
            "[nltk_data] Downloading package stopwords to /root/nltk_data...\n",
            "[nltk_data]   Unzipping corpora/stopwords.zip.\n"
          ]
        }
      ]
    },
    {
      "cell_type": "code",
      "metadata": {
        "id": "Ia3ZNiOe2vuz",
        "outputId": "5a97cd73-4354-4511-e36a-4bc4de1f18ba",
        "colab": {
          "base_uri": "https://localhost:8080/",
          "height": 73
        }
      },
      "source": [
        "#2 File Upload Hamlet.txt\n",
        "rom google.colab import files\n",
        "f = files.upload()"
      ],
      "execution_count": null,
      "outputs": [
        {
          "output_type": "display_data",
          "data": {
            "text/plain": [
              "<IPython.core.display.HTML object>"
            ],
            "text/html": [
              "\n",
              "     <input type=\"file\" id=\"files-61852a4c-a3e9-42af-a21b-484b8e7e6969\" name=\"files[]\" multiple disabled\n",
              "        style=\"border:none\" />\n",
              "     <output id=\"result-61852a4c-a3e9-42af-a21b-484b8e7e6969\">\n",
              "      Upload widget is only available when the cell has been executed in the\n",
              "      current browser session. Please rerun this cell to enable.\n",
              "      </output>\n",
              "      <script>// Copyright 2017 Google LLC\n",
              "//\n",
              "// Licensed under the Apache License, Version 2.0 (the \"License\");\n",
              "// you may not use this file except in compliance with the License.\n",
              "// You may obtain a copy of the License at\n",
              "//\n",
              "//      http://www.apache.org/licenses/LICENSE-2.0\n",
              "//\n",
              "// Unless required by applicable law or agreed to in writing, software\n",
              "// distributed under the License is distributed on an \"AS IS\" BASIS,\n",
              "// WITHOUT WARRANTIES OR CONDITIONS OF ANY KIND, either express or implied.\n",
              "// See the License for the specific language governing permissions and\n",
              "// limitations under the License.\n",
              "\n",
              "/**\n",
              " * @fileoverview Helpers for google.colab Python module.\n",
              " */\n",
              "(function(scope) {\n",
              "function span(text, styleAttributes = {}) {\n",
              "  const element = document.createElement('span');\n",
              "  element.textContent = text;\n",
              "  for (const key of Object.keys(styleAttributes)) {\n",
              "    element.style[key] = styleAttributes[key];\n",
              "  }\n",
              "  return element;\n",
              "}\n",
              "\n",
              "// Max number of bytes which will be uploaded at a time.\n",
              "const MAX_PAYLOAD_SIZE = 100 * 1024;\n",
              "\n",
              "function _uploadFiles(inputId, outputId) {\n",
              "  const steps = uploadFilesStep(inputId, outputId);\n",
              "  const outputElement = document.getElementById(outputId);\n",
              "  // Cache steps on the outputElement to make it available for the next call\n",
              "  // to uploadFilesContinue from Python.\n",
              "  outputElement.steps = steps;\n",
              "\n",
              "  return _uploadFilesContinue(outputId);\n",
              "}\n",
              "\n",
              "// This is roughly an async generator (not supported in the browser yet),\n",
              "// where there are multiple asynchronous steps and the Python side is going\n",
              "// to poll for completion of each step.\n",
              "// This uses a Promise to block the python side on completion of each step,\n",
              "// then passes the result of the previous step as the input to the next step.\n",
              "function _uploadFilesContinue(outputId) {\n",
              "  const outputElement = document.getElementById(outputId);\n",
              "  const steps = outputElement.steps;\n",
              "\n",
              "  const next = steps.next(outputElement.lastPromiseValue);\n",
              "  return Promise.resolve(next.value.promise).then((value) => {\n",
              "    // Cache the last promise value to make it available to the next\n",
              "    // step of the generator.\n",
              "    outputElement.lastPromiseValue = value;\n",
              "    return next.value.response;\n",
              "  });\n",
              "}\n",
              "\n",
              "/**\n",
              " * Generator function which is called between each async step of the upload\n",
              " * process.\n",
              " * @param {string} inputId Element ID of the input file picker element.\n",
              " * @param {string} outputId Element ID of the output display.\n",
              " * @return {!Iterable<!Object>} Iterable of next steps.\n",
              " */\n",
              "function* uploadFilesStep(inputId, outputId) {\n",
              "  const inputElement = document.getElementById(inputId);\n",
              "  inputElement.disabled = false;\n",
              "\n",
              "  const outputElement = document.getElementById(outputId);\n",
              "  outputElement.innerHTML = '';\n",
              "\n",
              "  const pickedPromise = new Promise((resolve) => {\n",
              "    inputElement.addEventListener('change', (e) => {\n",
              "      resolve(e.target.files);\n",
              "    });\n",
              "  });\n",
              "\n",
              "  const cancel = document.createElement('button');\n",
              "  inputElement.parentElement.appendChild(cancel);\n",
              "  cancel.textContent = 'Cancel upload';\n",
              "  const cancelPromise = new Promise((resolve) => {\n",
              "    cancel.onclick = () => {\n",
              "      resolve(null);\n",
              "    };\n",
              "  });\n",
              "\n",
              "  // Wait for the user to pick the files.\n",
              "  const files = yield {\n",
              "    promise: Promise.race([pickedPromise, cancelPromise]),\n",
              "    response: {\n",
              "      action: 'starting',\n",
              "    }\n",
              "  };\n",
              "\n",
              "  cancel.remove();\n",
              "\n",
              "  // Disable the input element since further picks are not allowed.\n",
              "  inputElement.disabled = true;\n",
              "\n",
              "  if (!files) {\n",
              "    return {\n",
              "      response: {\n",
              "        action: 'complete',\n",
              "      }\n",
              "    };\n",
              "  }\n",
              "\n",
              "  for (const file of files) {\n",
              "    const li = document.createElement('li');\n",
              "    li.append(span(file.name, {fontWeight: 'bold'}));\n",
              "    li.append(span(\n",
              "        `(${file.type || 'n/a'}) - ${file.size} bytes, ` +\n",
              "        `last modified: ${\n",
              "            file.lastModifiedDate ? file.lastModifiedDate.toLocaleDateString() :\n",
              "                                    'n/a'} - `));\n",
              "    const percent = span('0% done');\n",
              "    li.appendChild(percent);\n",
              "\n",
              "    outputElement.appendChild(li);\n",
              "\n",
              "    const fileDataPromise = new Promise((resolve) => {\n",
              "      const reader = new FileReader();\n",
              "      reader.onload = (e) => {\n",
              "        resolve(e.target.result);\n",
              "      };\n",
              "      reader.readAsArrayBuffer(file);\n",
              "    });\n",
              "    // Wait for the data to be ready.\n",
              "    let fileData = yield {\n",
              "      promise: fileDataPromise,\n",
              "      response: {\n",
              "        action: 'continue',\n",
              "      }\n",
              "    };\n",
              "\n",
              "    // Use a chunked sending to avoid message size limits. See b/62115660.\n",
              "    let position = 0;\n",
              "    do {\n",
              "      const length = Math.min(fileData.byteLength - position, MAX_PAYLOAD_SIZE);\n",
              "      const chunk = new Uint8Array(fileData, position, length);\n",
              "      position += length;\n",
              "\n",
              "      const base64 = btoa(String.fromCharCode.apply(null, chunk));\n",
              "      yield {\n",
              "        response: {\n",
              "          action: 'append',\n",
              "          file: file.name,\n",
              "          data: base64,\n",
              "        },\n",
              "      };\n",
              "\n",
              "      let percentDone = fileData.byteLength === 0 ?\n",
              "          100 :\n",
              "          Math.round((position / fileData.byteLength) * 100);\n",
              "      percent.textContent = `${percentDone}% done`;\n",
              "\n",
              "    } while (position < fileData.byteLength);\n",
              "  }\n",
              "\n",
              "  // All done.\n",
              "  yield {\n",
              "    response: {\n",
              "      action: 'complete',\n",
              "    }\n",
              "  };\n",
              "}\n",
              "\n",
              "scope.google = scope.google || {};\n",
              "scope.google.colab = scope.google.colab || {};\n",
              "scope.google.colab._files = {\n",
              "  _uploadFiles,\n",
              "  _uploadFilesContinue,\n",
              "};\n",
              "})(self);\n",
              "</script> "
            ]
          },
          "metadata": {}
        },
        {
          "output_type": "stream",
          "name": "stdout",
          "text": [
            "Saving Hamlet.txt to Hamlet.txt\n"
          ]
        }
      ]
    },
    {
      "cell_type": "code",
      "metadata": {
        "id": "yJk8lbhnbwoF",
        "outputId": "0ecc2608-eeb6-47ab-bddd-864c6cef7b08",
        "colab": {
          "base_uri": "https://localhost:8080/"
        }
      },
      "source": [
        "#3\n",
        "# Read the Hamlet text.\n",
        "# Retrieve only the first 1,000 characters from the text\n",
        "#\n",
        "textTotal = open('Hamlet.txt').read()\n",
        "print(type(textTotal))\n",
        "print(\"-----------------------------------\")\n",
        "blobTotal = TextBlob(textTotal)\n",
        "######################################\n",
        "numChars = 152\n",
        "text152 = textTotal[0:numChars+1]\n",
        "blob152 = TextBlob(text152)\n",
        "print(text152)\n",
        "print(\"-----------------------------------\")\n",
        "print(blob152)\n",
        "print(\"-----------------------------------\")"
      ],
      "execution_count": null,
      "outputs": [
        {
          "output_type": "stream",
          "name": "stdout",
          "text": [
            "<class 'str'>\n",
            "-----------------------------------\n",
            "\n",
            "Project Gutenberg EBook of Hamlet, by William Shakespeare\n",
            "\n",
            "This eBook is for the use of anyone anywhere in the United States and\n",
            "most other parts of the\n",
            "-----------------------------------\n",
            "\n",
            "Project Gutenberg EBook of Hamlet, by William Shakespeare\n",
            "\n",
            "This eBook is for the use of anyone anywhere in the United States and\n",
            "most other parts of the\n",
            "-----------------------------------\n"
          ]
        }
      ]
    },
    {
      "cell_type": "code",
      "metadata": {
        "id": "On9XZCEJb0Va"
      },
      "source": [
        "#4. Print function\n",
        "def print_words (list_words, numElementsRow):\n",
        "  #\n",
        "  for j in range (0,len(list_words),numElementsRow):\n",
        "    for i in range(j,j+numElementsRow):\n",
        "      if ( i >= len(list_words)):\n",
        "        break\n",
        "      print(i, '.',list_words[i], end=', ')\n",
        "    print()\n",
        "  print()"
      ],
      "execution_count": null,
      "outputs": []
    },
    {
      "cell_type": "code",
      "metadata": {
        "id": "B0EVMCKO32Zj",
        "outputId": "7a507ea4-c0de-475a-92a7-c0074954652c",
        "colab": {
          "base_uri": "https://localhost:8080/"
        }
      },
      "source": [
        "#5\n",
        "# 1. Counting of words\n",
        "#\n",
        "##########################################\n",
        "print(blob152.words)\n",
        "print()\n",
        "######################################\n",
        "print(type(blob152.words))\n",
        "print()\n",
        "#####################################\n",
        "blob152wordsList = list(blob152.words)\n",
        "print(type(blob152wordsList))\n",
        "print()\n",
        "######################################\n",
        "print_words(blob152.words,10)\n",
        "print('Count of words = ', len(blob152.words))"
      ],
      "execution_count": null,
      "outputs": [
        {
          "output_type": "stream",
          "name": "stdout",
          "text": [
            "['Project', 'Gutenberg', 'EBook', 'of', 'Hamlet', 'by', 'William', 'Shakespeare', 'This', 'eBook', 'is', 'for', 'the', 'use', 'of', 'anyone', 'anywhere', 'in', 'the', 'United', 'States', 'and', 'most', 'other', 'parts', 'of', 'the']\n",
            "\n",
            "<class 'textblob.blob.WordList'>\n",
            "\n",
            "<class 'list'>\n",
            "\n",
            "0 . Project, 1 . Gutenberg, 2 . EBook, 3 . of, 4 . Hamlet, 5 . by, 6 . William, 7 . Shakespeare, 8 . This, 9 . eBook, \n",
            "10 . is, 11 . for, 12 . the, 13 . use, 14 . of, 15 . anyone, 16 . anywhere, 17 . in, 18 . the, 19 . United, \n",
            "20 . States, 21 . and, 22 . most, 23 . other, 24 . parts, 25 . of, 26 . the, \n",
            "\n",
            "Count of words =  27\n"
          ]
        }
      ]
    },
    {
      "cell_type": "code",
      "metadata": {
        "id": "p0fY00t9tFj-",
        "outputId": "317d1be0-d8f5-4c00-f501-d63d7cd56a6e",
        "colab": {
          "base_uri": "https://localhost:8080/"
        }
      },
      "source": [
        "#6\n",
        "print('Count of words = ', len(blobTotal.words))"
      ],
      "execution_count": null,
      "outputs": [
        {
          "output_type": "stream",
          "name": "stdout",
          "text": [
            "Count of words =  37117\n"
          ]
        }
      ]
    },
    {
      "cell_type": "code",
      "metadata": {
        "id": "Sa7qoZTP7CX1"
      },
      "source": [
        "#for word in blob.words:\n",
        "#  print(word)"
      ],
      "execution_count": null,
      "outputs": []
    },
    {
      "cell_type": "code",
      "metadata": {
        "id": "4V-EAL-l7MBY",
        "outputId": "a5f5c98e-5ac9-4463-8149-be6e40b75eb5",
        "colab": {
          "base_uri": "https://localhost:8080/"
        }
      },
      "source": [
        "#7\n",
        "# 2. Searching words with a specific string\n",
        "#\n",
        "##################################################\n",
        "for word in blobTotal.words:\n",
        "  if 'William' in word:\n",
        "    print(word)"
      ],
      "execution_count": null,
      "outputs": [
        {
          "output_type": "stream",
          "name": "stdout",
          "text": [
            "William\n",
            "William\n",
            "William\n",
            "William\n"
          ]
        }
      ]
    },
    {
      "cell_type": "code",
      "metadata": {
        "id": "RZDI0xaiGD2s",
        "outputId": "9a3591bd-e45b-4ff2-afec-d197b8ef85df",
        "colab": {
          "base_uri": "https://localhost:8080/"
        }
      },
      "source": [
        "#8\n",
        "################################################\n",
        "# 3. List of Stop words in English language Corpus\n",
        "#\n",
        "################################################\n",
        "stop_words = stopwords.words('english')\n",
        "print('Total number of stop words in the English language corpus =',len(stop_words))\n",
        "print()\n",
        "print_words(stop_words,10)"
      ],
      "execution_count": null,
      "outputs": [
        {
          "output_type": "stream",
          "name": "stdout",
          "text": [
            "Total number of stop words in the English language corpus = 179\n",
            "\n",
            "0 . i, 1 . me, 2 . my, 3 . myself, 4 . we, 5 . our, 6 . ours, 7 . ourselves, 8 . you, 9 . you're, \n",
            "10 . you've, 11 . you'll, 12 . you'd, 13 . your, 14 . yours, 15 . yourself, 16 . yourselves, 17 . he, 18 . him, 19 . his, \n",
            "20 . himself, 21 . she, 22 . she's, 23 . her, 24 . hers, 25 . herself, 26 . it, 27 . it's, 28 . its, 29 . itself, \n",
            "30 . they, 31 . them, 32 . their, 33 . theirs, 34 . themselves, 35 . what, 36 . which, 37 . who, 38 . whom, 39 . this, \n",
            "40 . that, 41 . that'll, 42 . these, 43 . those, 44 . am, 45 . is, 46 . are, 47 . was, 48 . were, 49 . be, \n",
            "50 . been, 51 . being, 52 . have, 53 . has, 54 . had, 55 . having, 56 . do, 57 . does, 58 . did, 59 . doing, \n",
            "60 . a, 61 . an, 62 . the, 63 . and, 64 . but, 65 . if, 66 . or, 67 . because, 68 . as, 69 . until, \n",
            "70 . while, 71 . of, 72 . at, 73 . by, 74 . for, 75 . with, 76 . about, 77 . against, 78 . between, 79 . into, \n",
            "80 . through, 81 . during, 82 . before, 83 . after, 84 . above, 85 . below, 86 . to, 87 . from, 88 . up, 89 . down, \n",
            "90 . in, 91 . out, 92 . on, 93 . off, 94 . over, 95 . under, 96 . again, 97 . further, 98 . then, 99 . once, \n",
            "100 . here, 101 . there, 102 . when, 103 . where, 104 . why, 105 . how, 106 . all, 107 . any, 108 . both, 109 . each, \n",
            "110 . few, 111 . more, 112 . most, 113 . other, 114 . some, 115 . such, 116 . no, 117 . nor, 118 . not, 119 . only, \n",
            "120 . own, 121 . same, 122 . so, 123 . than, 124 . too, 125 . very, 126 . s, 127 . t, 128 . can, 129 . will, \n",
            "130 . just, 131 . don, 132 . don't, 133 . should, 134 . should've, 135 . now, 136 . d, 137 . ll, 138 . m, 139 . o, \n",
            "140 . re, 141 . ve, 142 . y, 143 . ain, 144 . aren, 145 . aren't, 146 . couldn, 147 . couldn't, 148 . didn, 149 . didn't, \n",
            "150 . doesn, 151 . doesn't, 152 . hadn, 153 . hadn't, 154 . hasn, 155 . hasn't, 156 . haven, 157 . haven't, 158 . isn, 159 . isn't, \n",
            "160 . ma, 161 . mightn, 162 . mightn't, 163 . mustn, 164 . mustn't, 165 . needn, 166 . needn't, 167 . shan, 168 . shan't, 169 . shouldn, \n",
            "170 . shouldn't, 171 . wasn, 172 . wasn't, 173 . weren, 174 . weren't, 175 . won, 176 . won't, 177 . wouldn, 178 . wouldn't, \n",
            "\n"
          ]
        }
      ]
    },
    {
      "cell_type": "code",
      "metadata": {
        "id": "gDri30lQGpKs",
        "outputId": "6ddae6fb-f417-4a08-89aa-e80baf9f3da2",
        "colab": {
          "base_uri": "https://localhost:8080/"
        }
      },
      "source": [
        "#9\n",
        "################################################\n",
        "# Sorted List of Stop Words\n",
        "#\n",
        "################################################\n",
        "# 3. List of Stop words in English language Corpus\n",
        "#\n",
        "################################################\n",
        "\n",
        "from operator import itemgetter\n",
        "sorted_stop_words = sorted(stop_words, key=itemgetter(0), reverse=False)\n",
        "print('Total number of stop words in the English language corpus =',len(sorted_stop_words))\n",
        "print()\n",
        "print_words(sorted_stop_words,10)"
      ],
      "execution_count": null,
      "outputs": [
        {
          "output_type": "stream",
          "name": "stdout",
          "text": [
            "Total number of stop words in the English language corpus = 179\n",
            "\n",
            "0 . am, 1 . are, 2 . a, 3 . an, 4 . and, 5 . as, 6 . at, 7 . about, 8 . against, 9 . after, \n",
            "10 . above, 11 . again, 12 . all, 13 . any, 14 . ain, 15 . aren, 16 . aren't, 17 . be, 18 . been, 19 . being, \n",
            "20 . but, 21 . because, 22 . by, 23 . between, 24 . before, 25 . below, 26 . both, 27 . can, 28 . couldn, 29 . couldn't, \n",
            "30 . do, 31 . does, 32 . did, 33 . doing, 34 . during, 35 . down, 36 . don, 37 . don't, 38 . d, 39 . didn, \n",
            "40 . didn't, 41 . doesn, 42 . doesn't, 43 . each, 44 . for, 45 . from, 46 . further, 47 . few, 48 . he, 49 . him, \n",
            "50 . his, 51 . himself, 52 . her, 53 . hers, 54 . herself, 55 . have, 56 . has, 57 . had, 58 . having, 59 . here, \n",
            "60 . how, 61 . hadn, 62 . hadn't, 63 . hasn, 64 . hasn't, 65 . haven, 66 . haven't, 67 . i, 68 . it, 69 . it's, \n",
            "70 . its, 71 . itself, 72 . is, 73 . if, 74 . into, 75 . in, 76 . isn, 77 . isn't, 78 . just, 79 . ll, \n",
            "80 . me, 81 . my, 82 . myself, 83 . more, 84 . most, 85 . m, 86 . ma, 87 . mightn, 88 . mightn't, 89 . mustn, \n",
            "90 . mustn't, 91 . no, 92 . nor, 93 . not, 94 . now, 95 . needn, 96 . needn't, 97 . our, 98 . ours, 99 . ourselves, \n",
            "100 . or, 101 . of, 102 . out, 103 . on, 104 . off, 105 . over, 106 . once, 107 . other, 108 . only, 109 . own, \n",
            "110 . o, 111 . re, 112 . she, 113 . she's, 114 . some, 115 . such, 116 . same, 117 . so, 118 . s, 119 . should, \n",
            "120 . should've, 121 . shan, 122 . shan't, 123 . shouldn, 124 . shouldn't, 125 . they, 126 . them, 127 . their, 128 . theirs, 129 . themselves, \n",
            "130 . this, 131 . that, 132 . that'll, 133 . these, 134 . those, 135 . the, 136 . through, 137 . to, 138 . then, 139 . there, \n",
            "140 . than, 141 . too, 142 . t, 143 . until, 144 . up, 145 . under, 146 . very, 147 . ve, 148 . we, 149 . what, \n",
            "150 . which, 151 . who, 152 . whom, 153 . was, 154 . were, 155 . while, 156 . with, 157 . when, 158 . where, 159 . why, \n",
            "160 . will, 161 . wasn, 162 . wasn't, 163 . weren, 164 . weren't, 165 . won, 166 . won't, 167 . wouldn, 168 . wouldn't, 169 . you, \n",
            "170 . you're, 171 . you've, 172 . you'll, 173 . you'd, 174 . your, 175 . yours, 176 . yourself, 177 . yourselves, 178 . y, \n",
            "\n"
          ]
        }
      ]
    },
    {
      "cell_type": "code",
      "metadata": {
        "id": "4yV6I3MJfi91",
        "outputId": "95c476f8-972f-4cd6-af1a-f770fe65ddfa",
        "colab": {
          "base_uri": "https://localhost:8080/"
        }
      },
      "source": [
        "#10\n",
        "# 4. Word Frequency\n",
        "#\n",
        "print('Number of times the word \"hamlet\" appears in the text =', blobTotal.word_counts['hamlet'])\n",
        "\n",
        "print('Number of times the word \"the\" appears in the text =', blobTotal.word_counts['the'])\n",
        "\n",
        "print('Number of times the word \"and\" appears in the text =', blobTotal.word_counts['and'])"
      ],
      "execution_count": null,
      "outputs": [
        {
          "output_type": "stream",
          "name": "stdout",
          "text": [
            "Number of times the word \"hamlet\" appears in the text = 479\n",
            "Number of times the word \"the\" appears in the text = 1302\n",
            "Number of times the word \"and\" appears in the text = 1053\n"
          ]
        }
      ]
    },
    {
      "cell_type": "code",
      "metadata": {
        "id": "UpmhQJRzR5jY",
        "outputId": "ad48b26b-3e73-4239-f1e3-b42b0eced7af",
        "colab": {
          "base_uri": "https://localhost:8080/"
        }
      },
      "source": [
        "#11\n",
        "# 4. Get all the unique words + frequency\n",
        "# All data is stored in a dictionary\n",
        "#\n",
        "dict_UniqueWord_Freq = blob152.word_counts.items()\n",
        "print_words(list(dict_UniqueWord_Freq),5)\n",
        "\n",
        "print('Type of blob.word_counts.items =',type(dict_UniqueWord_Freq))\n",
        "print('Total number of unique words in the text =', len(dict_UniqueWord_Freq))\n",
        "print('Total number of words in the text =', len(blob152.words))"
      ],
      "execution_count": null,
      "outputs": [
        {
          "output_type": "stream",
          "name": "stdout",
          "text": [
            "0 . ('project', 1), 1 . ('gutenberg', 1), 2 . ('ebook', 2), 3 . ('of', 3), 4 . ('hamlet', 1), \n",
            "5 . ('by', 1), 6 . ('william', 1), 7 . ('shakespeare', 1), 8 . ('this', 1), 9 . ('is', 1), \n",
            "10 . ('for', 1), 11 . ('the', 3), 12 . ('use', 1), 13 . ('anyone', 1), 14 . ('anywhere', 1), \n",
            "15 . ('in', 1), 16 . ('united', 1), 17 . ('states', 1), 18 . ('and', 1), 19 . ('most', 1), \n",
            "20 . ('other', 1), 21 . ('parts', 1), \n",
            "\n",
            "Type of blob.word_counts.items = <class 'dict_items'>\n",
            "Total number of unique words in the text = 22\n",
            "Total number of words in the text = 27\n"
          ]
        }
      ]
    },
    {
      "cell_type": "code",
      "metadata": {
        "id": "X2M7OHcXxTx_",
        "outputId": "2d018ac2-0dd9-448e-c193-579c9b4a991a",
        "colab": {
          "base_uri": "https://localhost:8080/"
        }
      },
      "source": [
        "#12\n",
        "# 4. Get all the unique words + frequency\n",
        "# All data is stored in a dictionary\n",
        "#\n",
        "dict_UniqueWord_Freq = blobTotal.word_counts.items()\n",
        "#print_words(list(dict_UniqueWord_Freq),5)\n",
        "\n",
        "#print('Type of blob.word_counts.items =',type(dict_UniqueWord_Freq))\n",
        "print('Total number of unique words in the text =', len(dict_UniqueWord_Freq))\n",
        "print('Total number of words in the text =', len(blobTotal.words))"
      ],
      "execution_count": null,
      "outputs": [
        {
          "output_type": "stream",
          "name": "stdout",
          "text": [
            "Total number of unique words in the text = 5121\n",
            "Total number of words in the text = 37117\n"
          ]
        }
      ]
    },
    {
      "cell_type": "code",
      "metadata": {
        "id": "YkBfWYAH2316",
        "outputId": "69c0550d-e13f-4bc4-91ee-12da4164d760",
        "colab": {
          "base_uri": "https://localhost:8080/"
        }
      },
      "source": [
        "#13\n",
        "# 5. Display most frequently used words\n",
        "#\n",
        "from operator import itemgetter\n",
        "sorted_items = sorted(list(dict_UniqueWord_Freq), key=itemgetter(1), reverse=True)\n",
        "print(type(sorted_items))"
      ],
      "execution_count": null,
      "outputs": [
        {
          "output_type": "stream",
          "name": "stdout",
          "text": [
            "<class 'list'>\n"
          ]
        }
      ]
    },
    {
      "cell_type": "code",
      "metadata": {
        "id": "G-OZZwoo236F",
        "outputId": "18d15da8-1a52-4720-e9c6-8ea5199542db",
        "colab": {
          "base_uri": "https://localhost:8080/"
        }
      },
      "source": [
        "#14\n",
        "# 6. Pull out the top-10 entries from the sorted list\n",
        "#\n",
        "numberTopWords = 10\n",
        "top10Words = sorted_items[0:numberTopWords]\n",
        "\n",
        "# Display the top 10 words using Pandas\n",
        "#\n",
        "import pandas as pd\n",
        "df = pd.DataFrame(top10Words, columns=['word', 'frequency'])\n",
        "print(df)"
      ],
      "execution_count": null,
      "outputs": [
        {
          "output_type": "stream",
          "name": "stdout",
          "text": [
            "  word  frequency\n",
            "0  the       1302\n",
            "1    ’       1068\n",
            "2  and       1053\n",
            "3   to        827\n",
            "4   of        800\n",
            "5  you        632\n",
            "6    i        630\n",
            "7    a        610\n",
            "8   in        527\n",
            "9   my        516\n"
          ]
        }
      ]
    },
    {
      "cell_type": "code",
      "metadata": {
        "id": "VXX3Dom9c4d5",
        "outputId": "44f64c50-e376-47e6-fa22-e4bcbf5bae46",
        "colab": {
          "base_uri": "https://localhost:8080/",
          "height": 462
        }
      },
      "source": [
        "#15\n",
        "axes = df.plot.bar(x='word', y='frequency', legend=False)"
      ],
      "execution_count": null,
      "outputs": [
        {
          "output_type": "display_data",
          "data": {
            "text/plain": [
              "<Figure size 640x480 with 1 Axes>"
            ],
            "image/png": "[encoded data removed]"
          },
          "metadata": {}
        }
      ]
    },
    {
      "cell_type": "code",
      "metadata": {
        "id": "VY4uzPQudL4H",
        "outputId": "808ededf-ef88-47e8-b29e-021af1b4f1f9",
        "colab": {
          "base_uri": "https://localhost:8080/",
          "height": 479
        }
      },
      "source": [
        "#16\n",
        "import matplotlib.pyplot as plt\n",
        "plt.gcf().tight_layout()\n",
        "axes = df.plot.bar(x='word', y='frequency', legend=False)"
      ],
      "execution_count": null,
      "outputs": [
        {
          "output_type": "display_data",
          "data": {
            "text/plain": [
              "<Figure size 640x480 with 0 Axes>"
            ]
          },
          "metadata": {}
        },
        {
          "output_type": "display_data",
          "data": {
            "text/plain": [
              "<Figure size 640x480 with 1 Axes>"
            ],
            "image/png": "[encoded data removed]"
          },
          "metadata": {}
        }
      ]
    }
  ]
}