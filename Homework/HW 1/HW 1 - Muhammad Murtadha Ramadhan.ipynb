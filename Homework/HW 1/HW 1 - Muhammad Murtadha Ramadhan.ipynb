{
 "cells": [
  {
   "cell_type": "code",
   "execution_count": 39,
   "metadata": {
    "colab": {
     "base_uri": "https://localhost:8080/"
    },
    "executionInfo": {
     "elapsed": 175,
     "status": "ok",
     "timestamp": 1729742840226,
     "user": {
      "displayName": "Muhammad Murtadha Ramadhan",
      "userId": "00601803146530858899"
     },
     "user_tz": 420
    },
    "id": "vCEjAUQ7UKD9",
    "outputId": "eeb7dbc2-f88f-4f71-8157-e6cd9d1c6d43"
   },
   "outputs": [
    {
     "name": "stderr",
     "output_type": "stream",
     "text": [
      "[nltk_data] Downloading package punkt to /root/nltk_data...\n",
      "[nltk_data]   Package punkt is already up-to-date!\n",
      "[nltk_data] Downloading package brown to /root/nltk_data...\n",
      "[nltk_data]   Package brown is already up-to-date!\n",
      "[nltk_data] Downloading package stopwords to /root/nltk_data...\n",
      "[nltk_data]   Package stopwords is already up-to-date!\n"
     ]
    }
   ],
   "source": [
    "from textblob import TextBlob\n",
    "import nltk\n",
    "nltk.download('punkt')\n",
    "nltk.download('brown')\n",
    "nltk.download('stopwords')\n",
    "from nltk.corpus import stopwords"
   ]
  },
  {
   "cell_type": "code",
   "execution_count": 40,
   "metadata": {
    "colab": {
     "base_uri": "https://localhost:8080/"
    },
    "executionInfo": {
     "elapsed": 1001,
     "status": "ok",
     "timestamp": 1729742841420,
     "user": {
      "displayName": "Muhammad Murtadha Ramadhan",
      "userId": "00601803146530858899"
     },
     "user_tz": 420
    },
    "id": "WH2t3MqH61TX",
    "outputId": "f33c5c6d-69f3-4278-966b-58d5c1935def"
   },
   "outputs": [
    {
     "name": "stdout",
     "output_type": "stream",
     "text": [
      "Drive already mounted at /content/drive; to attempt to forcibly remount, call drive.mount(\"/content/drive\", force_remount=True).\n"
     ]
    }
   ],
   "source": [
    "from google.colab import drive\n",
    "drive.mount('/content/drive')"
   ]
  },
  {
   "cell_type": "code",
   "execution_count": 41,
   "metadata": {
    "colab": {
     "base_uri": "https://localhost:8080/",
     "height": 73
    },
    "executionInfo": {
     "elapsed": 22198,
     "status": "ok",
     "timestamp": 1729742863609,
     "user": {
      "displayName": "Muhammad Murtadha Ramadhan",
      "userId": "00601803146530858899"
     },
     "user_tz": 420
    },
    "id": "6UGMZNzzggqS",
    "outputId": "7c9c00b6-442e-4c79-9608-6a54df1313bd"
   },
   "outputs": [
    {
     "data": {
      "text/html": [
       "\n",
       "     <input type=\"file\" id=\"files-de982958-e873-43d8-81f9-27b9efa1813a\" name=\"files[]\" multiple disabled\n",
       "        style=\"border:none\" />\n",
       "     <output id=\"result-de982958-e873-43d8-81f9-27b9efa1813a\">\n",
       "      Upload widget is only available when the cell has been executed in the\n",
       "      current browser session. Please rerun this cell to enable.\n",
       "      </output>\n",
       "      <script>// Copyright 2017 Google LLC\n",
       "//\n",
       "// Licensed under the Apache License, Version 2.0 (the \"License\");\n",
       "// you may not use this file except in compliance with the License.\n",
       "// You may obtain a copy of the License at\n",
       "//\n",
       "//      http://www.apache.org/licenses/LICENSE-2.0\n",
       "//\n",
       "// Unless required by applicable law or agreed to in writing, software\n",
       "// distributed under the License is distributed on an \"AS IS\" BASIS,\n",
       "// WITHOUT WARRANTIES OR CONDITIONS OF ANY KIND, either express or implied.\n",
       "// See the License for the specific language governing permissions and\n",
       "// limitations under the License.\n",
       "\n",
       "/**\n",
       " * @fileoverview Helpers for google.colab Python module.\n",
       " */\n",
       "(function(scope) {\n",
       "function span(text, styleAttributes = {}) {\n",
       "  const element = document.createElement('span');\n",
       "  element.textContent = text;\n",
       "  for (const key of Object.keys(styleAttributes)) {\n",
       "    element.style[key] = styleAttributes[key];\n",
       "  }\n",
       "  return element;\n",
       "}\n",
       "\n",
       "// Max number of bytes which will be uploaded at a time.\n",
       "const MAX_PAYLOAD_SIZE = 100 * 1024;\n",
       "\n",
       "function _uploadFiles(inputId, outputId) {\n",
       "  const steps = uploadFilesStep(inputId, outputId);\n",
       "  const outputElement = document.getElementById(outputId);\n",
       "  // Cache steps on the outputElement to make it available for the next call\n",
       "  // to uploadFilesContinue from Python.\n",
       "  outputElement.steps = steps;\n",
       "\n",
       "  return _uploadFilesContinue(outputId);\n",
       "}\n",
       "\n",
       "// This is roughly an async generator (not supported in the browser yet),\n",
       "// where there are multiple asynchronous steps and the Python side is going\n",
       "// to poll for completion of each step.\n",
       "// This uses a Promise to block the python side on completion of each step,\n",
       "// then passes the result of the previous step as the input to the next step.\n",
       "function _uploadFilesContinue(outputId) {\n",
       "  const outputElement = document.getElementById(outputId);\n",
       "  const steps = outputElement.steps;\n",
       "\n",
       "  const next = steps.next(outputElement.lastPromiseValue);\n",
       "  return Promise.resolve(next.value.promise).then((value) => {\n",
       "    // Cache the last promise value to make it available to the next\n",
       "    // step of the generator.\n",
       "    outputElement.lastPromiseValue = value;\n",
       "    return next.value.response;\n",
       "  });\n",
       "}\n",
       "\n",
       "/**\n",
       " * Generator function which is called between each async step of the upload\n",
       " * process.\n",
       " * @param {string} inputId Element ID of the input file picker element.\n",
       " * @param {string} outputId Element ID of the output display.\n",
       " * @return {!Iterable<!Object>} Iterable of next steps.\n",
       " */\n",
       "function* uploadFilesStep(inputId, outputId) {\n",
       "  const inputElement = document.getElementById(inputId);\n",
       "  inputElement.disabled = false;\n",
       "\n",
       "  const outputElement = document.getElementById(outputId);\n",
       "  outputElement.innerHTML = '';\n",
       "\n",
       "  const pickedPromise = new Promise((resolve) => {\n",
       "    inputElement.addEventListener('change', (e) => {\n",
       "      resolve(e.target.files);\n",
       "    });\n",
       "  });\n",
       "\n",
       "  const cancel = document.createElement('button');\n",
       "  inputElement.parentElement.appendChild(cancel);\n",
       "  cancel.textContent = 'Cancel upload';\n",
       "  const cancelPromise = new Promise((resolve) => {\n",
       "    cancel.onclick = () => {\n",
       "      resolve(null);\n",
       "    };\n",
       "  });\n",
       "\n",
       "  // Wait for the user to pick the files.\n",
       "  const files = yield {\n",
       "    promise: Promise.race([pickedPromise, cancelPromise]),\n",
       "    response: {\n",
       "      action: 'starting',\n",
       "    }\n",
       "  };\n",
       "\n",
       "  cancel.remove();\n",
       "\n",
       "  // Disable the input element since further picks are not allowed.\n",
       "  inputElement.disabled = true;\n",
       "\n",
       "  if (!files) {\n",
       "    return {\n",
       "      response: {\n",
       "        action: 'complete',\n",
       "      }\n",
       "    };\n",
       "  }\n",
       "\n",
       "  for (const file of files) {\n",
       "    const li = document.createElement('li');\n",
       "    li.append(span(file.name, {fontWeight: 'bold'}));\n",
       "    li.append(span(\n",
       "        `(${file.type || 'n/a'}) - ${file.size} bytes, ` +\n",
       "        `last modified: ${\n",
       "            file.lastModifiedDate ? file.lastModifiedDate.toLocaleDateString() :\n",
       "                                    'n/a'} - `));\n",
       "    const percent = span('0% done');\n",
       "    li.appendChild(percent);\n",
       "\n",
       "    outputElement.appendChild(li);\n",
       "\n",
       "    const fileDataPromise = new Promise((resolve) => {\n",
       "      const reader = new FileReader();\n",
       "      reader.onload = (e) => {\n",
       "        resolve(e.target.result);\n",
       "      };\n",
       "      reader.readAsArrayBuffer(file);\n",
       "    });\n",
       "    // Wait for the data to be ready.\n",
       "    let fileData = yield {\n",
       "      promise: fileDataPromise,\n",
       "      response: {\n",
       "        action: 'continue',\n",
       "      }\n",
       "    };\n",
       "\n",
       "    // Use a chunked sending to avoid message size limits. See b/62115660.\n",
       "    let position = 0;\n",
       "    do {\n",
       "      const length = Math.min(fileData.byteLength - position, MAX_PAYLOAD_SIZE);\n",
       "      const chunk = new Uint8Array(fileData, position, length);\n",
       "      position += length;\n",
       "\n",
       "      const base64 = btoa(String.fromCharCode.apply(null, chunk));\n",
       "      yield {\n",
       "        response: {\n",
       "          action: 'append',\n",
       "          file: file.name,\n",
       "          data: base64,\n",
       "        },\n",
       "      };\n",
       "\n",
       "      let percentDone = fileData.byteLength === 0 ?\n",
       "          100 :\n",
       "          Math.round((position / fileData.byteLength) * 100);\n",
       "      percent.textContent = `${percentDone}% done`;\n",
       "\n",
       "    } while (position < fileData.byteLength);\n",
       "  }\n",
       "\n",
       "  // All done.\n",
       "  yield {\n",
       "    response: {\n",
       "      action: 'complete',\n",
       "    }\n",
       "  };\n",
       "}\n",
       "\n",
       "scope.google = scope.google || {};\n",
       "scope.google.colab = scope.google.colab || {};\n",
       "scope.google.colab._files = {\n",
       "  _uploadFiles,\n",
       "  _uploadFilesContinue,\n",
       "};\n",
       "})(self);\n",
       "</script> "
      ],
      "text/plain": [
       "<IPython.core.display.HTML object>"
      ]
     },
     "metadata": {},
     "output_type": "display_data"
    },
    {
     "name": "stdout",
     "output_type": "stream",
     "text": [
      "Saving RomeoJuliet.txt to RomeoJuliet (1).txt\n"
     ]
    }
   ],
   "source": [
    "from google.colab import files\n",
    "f = files.upload()"
   ]
  },
  {
   "cell_type": "code",
   "execution_count": 42,
   "metadata": {
    "colab": {
     "base_uri": "https://localhost:8080/"
    },
    "executionInfo": {
     "elapsed": 224,
     "status": "ok",
     "timestamp": 1729742863828,
     "user": {
      "displayName": "Muhammad Murtadha Ramadhan",
      "userId": "00601803146530858899"
     },
     "user_tz": 420
    },
    "id": "Io_7Preg6fV8",
    "outputId": "9aba5be7-ba66-4802-c687-fd57021d1850"
   },
   "outputs": [
    {
     "name": "stdout",
     "output_type": "stream",
     "text": [
      "<class 'str'>\n",
      "-----------------------------------\n",
      "\n",
      "Project Gutenberg’s Romeo and Juliet, by William Shakespeare\n",
      "\n",
      "This eBook is for the use of anyone anywhere in the United States and\n",
      "most other parts of the world at no cost and with almost no restrictions\n",
      "whatsoever. You may copy it, give it away or re-use it under the terms\n",
      "of the Project Gutenberg License included with this eBook or online at\n",
      "www.gutenberg.org. If you are not located in the United States, you’ll\n",
      "have to check the laws of the country where you are located before using\n",
      "this ebook.\n",
      "\n",
      "\n",
      "\n",
      "Title: Romeo and Juliet\n",
      "\n",
      "Author: William Shakespeare\n",
      "\n",
      "Release Date: November, 1998 [Etext #1513]\n",
      "Last Updated: January 30, 2019\n",
      "\n",
      "Language: English\n",
      "\n",
      "Character set encoding: UTF-8\n",
      "\n",
      "*** START OF THIS PROJECT GUTENBERG EBOOK ROMEO AND JULIET ***\n",
      "\n",
      "\n",
      "\n",
      "This etext was produced by the PG Shakespeare Team,\n",
      "a team of about twenty Project Gutenberg volunteers.\n",
      "\n",
      "\n",
      "THE TRAGEDY OF ROMEO AND JULIET\n",
      "\n",
      "\n",
      "\n",
      "by William Shakespeare\n",
      "\n",
      "\n",
      "\n",
      "\n",
      "\n",
      "\n",
      "Contents\n",
      "\n",
      "THE PROLOGUE.\n",
      "\n",
      "ACT I\n",
      "Scene I. A public place.\n",
      "Scene II. A Street.\n",
      "Sc\n",
      "-----------------------------------\n",
      "\n",
      "Project Gutenberg’s Romeo and Juliet, by William Shakespeare\n",
      "\n",
      "This eBook is for the use of anyone anywhere in the United States and\n",
      "most other parts of the world at no cost and with almost no restrictions\n",
      "whatsoever. You may copy it, give it away or re-use it under the terms\n",
      "of the Project Gutenberg License included with this eBook or online at\n",
      "www.gutenberg.org. If you are not located in the United States, you’ll\n",
      "have to check the laws of the country where you are located before using\n",
      "this ebook.\n",
      "\n",
      "\n",
      "\n",
      "Title: Romeo and Juliet\n",
      "\n",
      "Author: William Shakespeare\n",
      "\n",
      "Release Date: November, 1998 [Etext #1513]\n",
      "Last Updated: January 30, 2019\n",
      "\n",
      "Language: English\n",
      "\n",
      "Character set encoding: UTF-8\n",
      "\n",
      "*** START OF THIS PROJECT GUTENBERG EBOOK ROMEO AND JULIET ***\n",
      "\n",
      "\n",
      "\n",
      "This etext was produced by the PG Shakespeare Team,\n",
      "a team of about twenty Project Gutenberg volunteers.\n",
      "\n",
      "\n",
      "THE TRAGEDY OF ROMEO AND JULIET\n",
      "\n",
      "\n",
      "\n",
      "by William Shakespeare\n",
      "\n",
      "\n",
      "\n",
      "\n",
      "\n",
      "\n",
      "Contents\n",
      "\n",
      "THE PROLOGUE.\n",
      "\n",
      "ACT I\n",
      "Scene I. A public place.\n",
      "Scene II. A Street.\n",
      "Sc\n",
      "-----------------------------------\n"
     ]
    }
   ],
   "source": [
    "textTotal = open('RomeoJuliet.txt').read()\n",
    "print(type(textTotal))\n",
    "print(\"-----------------------------------\")\n",
    "\n",
    "blobTotal = TextBlob(textTotal)\n",
    "######################################\n",
    "numChars = 1000\n",
    "text1000 = textTotal[0:numChars+1]\n",
    "blob1000 = TextBlob(text1000)\n",
    "print(text1000)\n",
    "print(\"-----------------------------------\")\n",
    "print(blob1000)\n",
    "print(\"-----------------------------------\")"
   ]
  },
  {
   "cell_type": "markdown",
   "metadata": {
    "id": "x6GpEy0mic--"
   },
   "source": [
    "# Tokenization"
   ]
  },
  {
   "cell_type": "code",
   "execution_count": 43,
   "metadata": {
    "colab": {
     "base_uri": "https://localhost:8080/"
    },
    "executionInfo": {
     "elapsed": 16,
     "status": "ok",
     "timestamp": 1729742863828,
     "user": {
      "displayName": "Muhammad Murtadha Ramadhan",
      "userId": "00601803146530858899"
     },
     "user_tz": 420
    },
    "id": "xkSAGnEs7DGg",
    "outputId": "1d046b99-a910-4a2d-abfc-830ed045532c"
   },
   "outputs": [
    {
     "data": {
      "text/plain": [
       "['Project',\n",
       " 'Gutenberg',\n",
       " 's',\n",
       " 'Romeo',\n",
       " 'and',\n",
       " 'Juliet',\n",
       " 'by',\n",
       " 'William',\n",
       " 'Shakespeare',\n",
       " 'This',\n",
       " 'eBook',\n",
       " 'is',\n",
       " 'for',\n",
       " 'the',\n",
       " 'use',\n",
       " 'of',\n",
       " 'anyone',\n",
       " 'anywhere',\n",
       " 'in',\n",
       " 'the',\n",
       " 'United',\n",
       " 'States',\n",
       " 'and',\n",
       " 'most',\n",
       " 'other',\n",
       " 'parts',\n",
       " 'of',\n",
       " 'the',\n",
       " 'world',\n",
       " 'at',\n",
       " 'no',\n",
       " 'cost',\n",
       " 'and',\n",
       " 'with',\n",
       " 'almost',\n",
       " 'no',\n",
       " 'restrictions',\n",
       " 'whatsoever',\n",
       " 'You',\n",
       " 'may',\n",
       " 'copy',\n",
       " 'it',\n",
       " 'give',\n",
       " 'it',\n",
       " 'away',\n",
       " 'or',\n",
       " 're',\n",
       " 'use',\n",
       " 'it',\n",
       " 'under',\n",
       " 'the',\n",
       " 'terms',\n",
       " 'of',\n",
       " 'the',\n",
       " 'Project',\n",
       " 'Gutenberg',\n",
       " 'License',\n",
       " 'included',\n",
       " 'with',\n",
       " 'this',\n",
       " 'eBook',\n",
       " 'or',\n",
       " 'online',\n",
       " 'at',\n",
       " 'www',\n",
       " 'gutenberg',\n",
       " 'org',\n",
       " 'If',\n",
       " 'you',\n",
       " 'are',\n",
       " 'not',\n",
       " 'located',\n",
       " 'in',\n",
       " 'the',\n",
       " 'United',\n",
       " 'States',\n",
       " 'you',\n",
       " 'll',\n",
       " 'have',\n",
       " 'to',\n",
       " 'check',\n",
       " 'the',\n",
       " 'laws',\n",
       " 'of',\n",
       " 'the',\n",
       " 'country',\n",
       " 'where',\n",
       " 'you',\n",
       " 'are',\n",
       " 'located',\n",
       " 'before',\n",
       " 'using',\n",
       " 'this',\n",
       " 'ebook',\n",
       " 'Title',\n",
       " 'Romeo',\n",
       " 'and',\n",
       " 'Juliet',\n",
       " 'Author',\n",
       " 'William',\n",
       " 'Shakespeare',\n",
       " 'Release',\n",
       " 'Date',\n",
       " 'November',\n",
       " '1998',\n",
       " 'Etext',\n",
       " '1513',\n",
       " 'Last',\n",
       " 'Updated',\n",
       " 'January',\n",
       " '30',\n",
       " '2019',\n",
       " 'Language',\n",
       " 'English',\n",
       " 'Character',\n",
       " 'set',\n",
       " 'encoding',\n",
       " 'UTF',\n",
       " '8',\n",
       " 'START',\n",
       " 'OF',\n",
       " 'THIS',\n",
       " 'PROJECT',\n",
       " 'GUTENBERG',\n",
       " 'EBOOK',\n",
       " 'ROMEO',\n",
       " 'AND',\n",
       " 'JULIET',\n",
       " 'This',\n",
       " 'etext',\n",
       " 'was',\n",
       " 'produced',\n",
       " 'by',\n",
       " 'the',\n",
       " 'PG',\n",
       " 'Shakespeare',\n",
       " 'Team',\n",
       " 'a',\n",
       " 'team',\n",
       " 'of',\n",
       " 'about',\n",
       " 'twenty',\n",
       " 'Project',\n",
       " 'Gutenberg',\n",
       " 'volunteers',\n",
       " 'THE',\n",
       " 'TRAGEDY',\n",
       " 'OF',\n",
       " 'ROMEO',\n",
       " 'AND',\n",
       " 'JULIET',\n",
       " 'by',\n",
       " 'William',\n",
       " 'Shakespeare',\n",
       " 'Contents',\n",
       " 'THE',\n",
       " 'PROLOGUE',\n",
       " 'ACT',\n",
       " 'I',\n",
       " 'Scene',\n",
       " 'I',\n",
       " 'A',\n",
       " 'public',\n",
       " 'place',\n",
       " 'Scene',\n",
       " 'II',\n",
       " 'A',\n",
       " 'Street',\n",
       " 'Sc']"
      ]
     },
     "execution_count": 43,
     "metadata": {},
     "output_type": "execute_result"
    }
   ],
   "source": [
    "# tokenization\n",
    "# Find all the word tokens using regular expressions in text1000 string variable.\n",
    "\n",
    "import re\n",
    "\n",
    "# Find all the word tokens using regular expressions\n",
    "word_tokens = re.findall(r'\\b\\w+\\b', text1000)\n",
    "word_tokens"
   ]
  },
  {
   "cell_type": "code",
   "execution_count": 44,
   "metadata": {
    "colab": {
     "base_uri": "https://localhost:8080/"
    },
    "executionInfo": {
     "elapsed": 12,
     "status": "ok",
     "timestamp": 1729742863828,
     "user": {
      "displayName": "Muhammad Murtadha Ramadhan",
      "userId": "00601803146530858899"
     },
     "user_tz": 420
    },
    "id": "2D5KXS837E2w",
    "outputId": "869693e4-4283-4130-c20f-0598e9354e27"
   },
   "outputs": [
    {
     "data": {
      "text/plain": [
       "['Project Gutenberg’s Romeo and Juliet, by William Shakespeare\\n\\nThis eBook is for the use of anyone anywhere in the United States and\\nmost other parts of the world at no cost and with almost no restrictions\\nwhatsoever.',\n",
       " 'You may copy it, give it away or re-use it under the terms\\nof the Project Gutenberg License included with this eBook or online at\\nwww.',\n",
       " 'If you are not located in the United States, you’ll\\nhave to check the laws of the country where you are located before using\\nthis ebook.',\n",
       " 'Title: Romeo and Juliet\\n\\nAuthor: William Shakespeare\\n\\nRelease Date: November, 1998 [Etext #1513]\\nLast Updated: January 30, 2019\\n\\nLanguage: English\\n\\nCharacter set encoding: UTF-8\\n\\n*** START OF THIS PROJECT GUTENBERG EBOOK ROMEO AND JULIET ***\\n\\n\\n\\nThis etext was produced by the PG Shakespeare Team,\\na team of about twenty Project Gutenberg volunteers.',\n",
       " 'THE TRAGEDY OF ROMEO AND JULIET\\n\\n\\n\\nby William Shakespeare\\n\\n\\n\\n\\n\\n\\nContents\\n\\nTHE PROLOGUE.',\n",
       " 'ACT I\\nScene I.',\n",
       " 'A public place.',\n",
       " 'Scene II.',\n",
       " 'A Street.']"
      ]
     },
     "execution_count": 44,
     "metadata": {},
     "output_type": "execute_result"
    }
   ],
   "source": [
    "# tokenization\n",
    "# Find all the sentence tokens using regular expressions in text1000 string variable.\n",
    "sentence_tokens = re.findall(r'[A-Z][^\\.!?]*[\\.!?]', text1000)\n",
    "sentence_tokens"
   ]
  },
  {
   "cell_type": "code",
   "execution_count": 45,
   "metadata": {
    "colab": {
     "base_uri": "https://localhost:8080/"
    },
    "executionInfo": {
     "elapsed": 11,
     "status": "ok",
     "timestamp": 1729742863829,
     "user": {
      "displayName": "Muhammad Murtadha Ramadhan",
      "userId": "00601803146530858899"
     },
     "user_tz": 420
    },
    "id": "umJIr7O17Y1d",
    "outputId": "34b08edf-33c0-4245-8208-59bb2ed92a18"
   },
   "outputs": [
    {
     "data": {
      "text/plain": [
       "['Project',\n",
       " 'Gutenberg',\n",
       " '’',\n",
       " 's',\n",
       " 'Romeo',\n",
       " 'and',\n",
       " 'Juliet',\n",
       " ',',\n",
       " 'by',\n",
       " 'William',\n",
       " 'Shakespeare',\n",
       " 'This',\n",
       " 'eBook',\n",
       " 'is',\n",
       " 'for',\n",
       " 'the',\n",
       " 'use',\n",
       " 'of',\n",
       " 'anyone',\n",
       " 'anywhere',\n",
       " 'in',\n",
       " 'the',\n",
       " 'United',\n",
       " 'States',\n",
       " 'and',\n",
       " 'most',\n",
       " 'other',\n",
       " 'parts',\n",
       " 'of',\n",
       " 'the',\n",
       " 'world',\n",
       " 'at',\n",
       " 'no',\n",
       " 'cost',\n",
       " 'and',\n",
       " 'with',\n",
       " 'almost',\n",
       " 'no',\n",
       " 'restrictions',\n",
       " 'whatsoever',\n",
       " '.',\n",
       " 'You',\n",
       " 'may',\n",
       " 'copy',\n",
       " 'it',\n",
       " ',',\n",
       " 'give',\n",
       " 'it',\n",
       " 'away',\n",
       " 'or',\n",
       " 're-use',\n",
       " 'it',\n",
       " 'under',\n",
       " 'the',\n",
       " 'terms',\n",
       " 'of',\n",
       " 'the',\n",
       " 'Project',\n",
       " 'Gutenberg',\n",
       " 'License',\n",
       " 'included',\n",
       " 'with',\n",
       " 'this',\n",
       " 'eBook',\n",
       " 'or',\n",
       " 'online',\n",
       " 'at',\n",
       " 'www.gutenberg.org',\n",
       " '.',\n",
       " 'If',\n",
       " 'you',\n",
       " 'are',\n",
       " 'not',\n",
       " 'located',\n",
       " 'in',\n",
       " 'the',\n",
       " 'United',\n",
       " 'States',\n",
       " ',',\n",
       " 'you',\n",
       " '’',\n",
       " 'll',\n",
       " 'have',\n",
       " 'to',\n",
       " 'check',\n",
       " 'the',\n",
       " 'laws',\n",
       " 'of',\n",
       " 'the',\n",
       " 'country',\n",
       " 'where',\n",
       " 'you',\n",
       " 'are',\n",
       " 'located',\n",
       " 'before',\n",
       " 'using',\n",
       " 'this',\n",
       " 'ebook',\n",
       " '.',\n",
       " 'Title',\n",
       " ':',\n",
       " 'Romeo',\n",
       " 'and',\n",
       " 'Juliet',\n",
       " 'Author',\n",
       " ':',\n",
       " 'William',\n",
       " 'Shakespeare',\n",
       " 'Release',\n",
       " 'Date',\n",
       " ':',\n",
       " 'November',\n",
       " ',',\n",
       " '1998',\n",
       " '[',\n",
       " 'Etext',\n",
       " '#',\n",
       " '1513',\n",
       " ']',\n",
       " 'Last',\n",
       " 'Updated',\n",
       " ':',\n",
       " 'January',\n",
       " '30',\n",
       " ',',\n",
       " '2019',\n",
       " 'Language',\n",
       " ':',\n",
       " 'English',\n",
       " 'Character',\n",
       " 'set',\n",
       " 'encoding',\n",
       " ':',\n",
       " 'UTF-8',\n",
       " '*',\n",
       " '*',\n",
       " '*',\n",
       " 'START',\n",
       " 'OF',\n",
       " 'THIS',\n",
       " 'PROJECT',\n",
       " 'GUTENBERG',\n",
       " 'EBOOK',\n",
       " 'ROMEO',\n",
       " 'AND',\n",
       " 'JULIET',\n",
       " '*',\n",
       " '*',\n",
       " '*',\n",
       " 'This',\n",
       " 'etext',\n",
       " 'was',\n",
       " 'produced',\n",
       " 'by',\n",
       " 'the',\n",
       " 'PG',\n",
       " 'Shakespeare',\n",
       " 'Team',\n",
       " ',',\n",
       " 'a',\n",
       " 'team',\n",
       " 'of',\n",
       " 'about',\n",
       " 'twenty',\n",
       " 'Project',\n",
       " 'Gutenberg',\n",
       " 'volunteers',\n",
       " '.',\n",
       " 'THE',\n",
       " 'TRAGEDY',\n",
       " 'OF',\n",
       " 'ROMEO',\n",
       " 'AND',\n",
       " 'JULIET',\n",
       " 'by',\n",
       " 'William',\n",
       " 'Shakespeare',\n",
       " 'Contents',\n",
       " 'THE',\n",
       " 'PROLOGUE',\n",
       " '.',\n",
       " 'ACT',\n",
       " 'I',\n",
       " 'Scene',\n",
       " 'I',\n",
       " '.',\n",
       " 'A',\n",
       " 'public',\n",
       " 'place',\n",
       " '.',\n",
       " 'Scene',\n",
       " 'II',\n",
       " '.',\n",
       " 'A',\n",
       " 'Street',\n",
       " '.',\n",
       " 'Sc']"
      ]
     },
     "execution_count": 45,
     "metadata": {},
     "output_type": "execute_result"
    }
   ],
   "source": [
    "# Find all the word tokens using NLTK library in text1000 string variable.\n",
    "\n",
    "from nltk.tokenize import word_tokenize\n",
    "\n",
    "word_tokens_nltk = word_tokenize(text1000)\n",
    "word_tokens_nltk"
   ]
  },
  {
   "cell_type": "code",
   "execution_count": 46,
   "metadata": {
    "colab": {
     "base_uri": "https://localhost:8080/"
    },
    "executionInfo": {
     "elapsed": 9,
     "status": "ok",
     "timestamp": 1729742863829,
     "user": {
      "displayName": "Muhammad Murtadha Ramadhan",
      "userId": "00601803146530858899"
     },
     "user_tz": 420
    },
    "id": "AcHK99EP7erI",
    "outputId": "ca2aff15-cef5-4b70-fb88-3eedffc28a83"
   },
   "outputs": [
    {
     "data": {
      "text/plain": [
       "['\\nProject Gutenberg’s Romeo and Juliet, by William Shakespeare\\n\\nThis eBook is for the use of anyone anywhere in the United States and\\nmost other parts of the world at no cost and with almost no restrictions\\nwhatsoever.',\n",
       " 'You may copy it, give it away or re-use it under the terms\\nof the Project Gutenberg License included with this eBook or online at\\nwww.gutenberg.org.',\n",
       " 'If you are not located in the United States, you’ll\\nhave to check the laws of the country where you are located before using\\nthis ebook.',\n",
       " 'Title: Romeo and Juliet\\n\\nAuthor: William Shakespeare\\n\\nRelease Date: November, 1998 [Etext #1513]\\nLast Updated: January 30, 2019\\n\\nLanguage: English\\n\\nCharacter set encoding: UTF-8\\n\\n*** START OF THIS PROJECT GUTENBERG EBOOK ROMEO AND JULIET ***\\n\\n\\n\\nThis etext was produced by the PG Shakespeare Team,\\na team of about twenty Project Gutenberg volunteers.',\n",
       " 'THE TRAGEDY OF ROMEO AND JULIET\\n\\n\\n\\nby William Shakespeare\\n\\n\\n\\n\\n\\n\\nContents\\n\\nTHE PROLOGUE.',\n",
       " 'ACT I\\nScene I.',\n",
       " 'A public place.',\n",
       " 'Scene II.',\n",
       " 'A Street.',\n",
       " 'Sc']"
      ]
     },
     "execution_count": 46,
     "metadata": {},
     "output_type": "execute_result"
    }
   ],
   "source": [
    "# Find all the sentence tokens using NLTK library in text1000 string variable\n",
    "\n",
    "from nltk.tokenize import sent_tokenize\n",
    "sentence_tokens_nltk = sent_tokenize(text1000)\n",
    "sentence_tokens_nltk"
   ]
  },
  {
   "cell_type": "markdown",
   "metadata": {
    "id": "9oOkad3Wi8ND"
   },
   "source": [
    "# Analysis of Words"
   ]
  },
  {
   "cell_type": "code",
   "execution_count": 47,
   "metadata": {
    "colab": {
     "base_uri": "https://localhost:8080/"
    },
    "executionInfo": {
     "elapsed": 6,
     "status": "ok",
     "timestamp": 1729742863829,
     "user": {
      "displayName": "Muhammad Murtadha Ramadhan",
      "userId": "00601803146530858899"
     },
     "user_tz": 420
    },
    "id": "gzRyEBQ87ksV",
    "outputId": "085010d7-103e-4542-b242-fa0af11213c7"
   },
   "outputs": [
    {
     "data": {
      "text/plain": [
       "dict_items([('project', 4), ('gutenberg', 4), ('’', 2), ('s', 2), ('romeo', 4), ('and', 6), ('juliet', 4), ('by', 3), ('william', 3), ('shakespeare', 4), ('this', 5), ('ebook', 4), ('is', 1), ('for', 1), ('the', 11), ('use', 1), ('of', 7), ('anyone', 1), ('anywhere', 1), ('in', 2), ('united', 2), ('states', 2), ('most', 1), ('other', 1), ('parts', 1), ('world', 1), ('at', 2), ('no', 2), ('cost', 1), ('with', 2), ('almost', 1), ('restrictions', 1), ('whatsoever', 1), ('you', 4), ('may', 1), ('copy', 1), ('it', 3), ('give', 1), ('away', 1), ('or', 2), ('re-use', 1), ('under', 1), ('terms', 1), ('license', 1), ('included', 1), ('online', 1), ('www.gutenberg.org', 1), ('if', 1), ('are', 2), ('not', 1), ('located', 2), ('ll', 1), ('have', 1), ('to', 1), ('check', 1), ('laws', 1), ('country', 1), ('where', 1), ('before', 1), ('using', 1), ('title', 1), ('author', 1), ('release', 1), ('date', 1), ('november', 1), ('1998', 1), ('etext', 2), ('1513', 1), ('last', 1), ('updated', 1), ('january', 1), ('30', 1), ('2019', 1), ('language', 1), ('english', 1), ('character', 1), ('set', 1), ('encoding', 1), ('utf-8', 1), ('start', 1), ('was', 1), ('produced', 1), ('pg', 1), ('team', 2), ('a', 3), ('about', 1), ('twenty', 1), ('volunteers', 1), ('tragedy', 1), ('contents', 1), ('prologue', 1), ('act', 1), ('i', 2), ('scene', 2), ('public', 1), ('place', 1), ('ii', 1), ('street', 1)])"
      ]
     },
     "execution_count": 47,
     "metadata": {},
     "output_type": "execute_result"
    }
   ],
   "source": [
    "# Count and display the words in the first 1,000 characters of the text. Display all the words by printing 10 words per line.\n",
    "\n",
    "char1000 = textTotal[:1000]\n",
    "blobchar1000 = TextBlob(char1000)\n",
    "\n",
    "dict_UniqueWord_Freq = blobchar1000.word_counts.items()\n",
    "dict_UniqueWord_Freq"
   ]
  },
  {
   "cell_type": "code",
   "execution_count": 48,
   "metadata": {
    "colab": {
     "base_uri": "https://localhost:8080/"
    },
    "executionInfo": {
     "elapsed": 916,
     "status": "ok",
     "timestamp": 1729742864739,
     "user": {
      "displayName": "Muhammad Murtadha Ramadhan",
      "userId": "00601803146530858899"
     },
     "user_tz": 420
    },
    "id": "gBqJ7MoX73Ty",
    "outputId": "a260630b-f316-49ba-c0e1-502f72f16cb7"
   },
   "outputs": [
    {
     "name": "stdout",
     "output_type": "stream",
     "text": [
      "Count of words = 30796\n"
     ]
    }
   ],
   "source": [
    "# Count the words in the entire text\n",
    "\n",
    "total_words = len(blobTotal.words)\n",
    "print('Count of words =', total_words)"
   ]
  },
  {
   "cell_type": "code",
   "execution_count": 49,
   "metadata": {
    "colab": {
     "base_uri": "https://localhost:8080/"
    },
    "executionInfo": {
     "elapsed": 6,
     "status": "ok",
     "timestamp": 1729742864740,
     "user": {
      "displayName": "Muhammad Murtadha Ramadhan",
      "userId": "00601803146530858899"
     },
     "user_tz": 420
    },
    "id": "fWUJNFqDlgjg",
    "outputId": "9ea73090-117d-48ac-d804-09d0b5ddb1f8"
   },
   "outputs": [
    {
     "name": "stdout",
     "output_type": "stream",
     "text": [
      "Total number of unique words in the text = 4145\n",
      "Total number of words in the text = 30796\n"
     ]
    }
   ],
   "source": [
    "# Count the unique words in the entire text\n",
    "\n",
    "dict_UniqueWord_Freq_total = blobTotal.word_counts.items()\n",
    "total_unique_words = len(dict_UniqueWord_Freq_total)\n",
    "\n",
    "print('Total number of unique words in the text =', total_unique_words)\n",
    "print('Total number of words in the text =', total_words)"
   ]
  },
  {
   "cell_type": "code",
   "execution_count": 50,
   "metadata": {
    "colab": {
     "base_uri": "https://localhost:8080/"
    },
    "executionInfo": {
     "elapsed": 435,
     "status": "ok",
     "timestamp": 1729742865170,
     "user": {
      "displayName": "Muhammad Murtadha Ramadhan",
      "userId": "00601803146530858899"
     },
     "user_tz": 420
    },
    "id": "M7DvP7C8mPeq",
    "outputId": "90894218-9605-44c1-8161-4a7339b3a3a5"
   },
   "outputs": [
    {
     "name": "stdout",
     "output_type": "stream",
     "text": [
      "Total number of unique words in the text = 4145\n",
      "Total number of unique words in the text after removing stop words = 4018\n",
      "Total number of words in the text = 179\n"
     ]
    }
   ],
   "source": [
    "# Count the unique words in the entire text after removing the stop-words from the list\n",
    "\n",
    "stop_words = stopwords.words('english')\n",
    "\n",
    "words_list_non_stop_words = [word for word in blobTotal.words if word.lower() not in stop_words]\n",
    "non_stop_words_sentense = ' '.join(words_list_non_stop_words)\n",
    "blob_non_stop_words = TextBlob(non_stop_words_sentense)\n",
    "\n",
    "dict_UniqueWord_Freq_total_exc_stop_words = blob_non_stop_words.word_counts.items()\n",
    "\n",
    "print('Total number of unique words in the text =', total_unique_words)\n",
    "print('Total number of unique words in the text after removing stop words =', len(dict_UniqueWord_Freq_total_exc_stop_words))\n",
    "print('Total number of words in the text =', len(stop_words))"
   ]
  },
  {
   "cell_type": "code",
   "execution_count": 51,
   "metadata": {
    "colab": {
     "base_uri": "https://localhost:8080/"
    },
    "executionInfo": {
     "elapsed": 5,
     "status": "ok",
     "timestamp": 1729742865170,
     "user": {
      "displayName": "Muhammad Murtadha Ramadhan",
      "userId": "00601803146530858899"
     },
     "user_tz": 420
    },
    "id": "lT-8TeSwrg1c",
    "outputId": "5f1f8d14-5120-4a10-cfd5-f168314f0cdf"
   },
   "outputs": [
    {
     "name": "stdout",
     "output_type": "stream",
     "text": [
      "<class 'list'>\n",
      "-----------------------------------\n",
      "   word  frequency\n",
      "0   the        876\n",
      "1     ’        869\n",
      "2   and        808\n",
      "3     i        655\n",
      "4    to        626\n",
      "5     a        542\n",
      "6    of        519\n",
      "7    in        395\n",
      "8    is        372\n",
      "9  that        369\n"
     ]
    }
   ],
   "source": [
    "# Print the top-10 words in the entire text with highest frequency. Also display words’ frequency.\n",
    "\n",
    "from operator import itemgetter\n",
    "dict_UniqueWord_total = blobTotal.word_counts.items()\n",
    "sorted_items_total = sorted(list(dict_UniqueWord_total), key=itemgetter(1), reverse=True)\n",
    "\n",
    "print(type(sorted_items_total))\n",
    "\n",
    "print('-----------------------------------')\n",
    "\n",
    "import pandas as pd\n",
    "df_top10words = pd.DataFrame(sorted_items_total[:10], columns=['word', 'frequency'])\n",
    "print(df_top10words)"
   ]
  },
  {
   "cell_type": "code",
   "execution_count": 52,
   "metadata": {
    "colab": {
     "base_uri": "https://localhost:8080/"
    },
    "executionInfo": {
     "elapsed": 4,
     "status": "ok",
     "timestamp": 1729742865170,
     "user": {
      "displayName": "Muhammad Murtadha Ramadhan",
      "userId": "00601803146530858899"
     },
     "user_tz": 420
    },
    "id": "MuT74cszq2_F",
    "outputId": "05ad10d7-fe5e-421e-99ed-0e750380ae96"
   },
   "outputs": [
    {
     "name": "stdout",
     "output_type": "stream",
     "text": [
      "<class 'list'>\n",
      "-----------------------------------\n",
      "      word  frequency\n",
      "0        ’        869\n",
      "1    romeo        320\n",
      "2     thou        278\n",
      "3   juliet        195\n",
      "4      thy        170\n",
      "5  capulet        163\n",
      "6    nurse        149\n",
      "7     love        148\n",
      "8     thee        138\n",
      "9     lady        117\n"
     ]
    }
   ],
   "source": [
    "# Print the top-10 words in the entire text with highest frequency after removing the stop-words from the list. Also display words’ frequency.\n",
    "\n",
    "from operator import itemgetter\n",
    "sorted_items_exc_stop_words = sorted(list(dict_UniqueWord_Freq_total_exc_stop_words), key=itemgetter(1), reverse=True)\n",
    "\n",
    "print(type(sorted_items_exc_stop_words))\n",
    "\n",
    "print('-----------------------------------')\n",
    "\n",
    "import pandas as pd\n",
    "df_top10words_exc_stop_words = pd.DataFrame(sorted_items_exc_stop_words[:10], columns=['word', 'frequency'])\n",
    "print(df_top10words_exc_stop_words)"
   ]
  }
 ],
 "metadata": {
  "colab": {
   "authorship_tag": "ABX9TyMDzFulyw+nM5nzyn129yIu",
   "mount_file_id": "1e99-Y1MvK8E2UBeaCGGNhjIAOAnBMQVP",
   "provenance": []
  },
  "kernelspec": {
   "display_name": "Python 3 (ipykernel)",
   "language": "python",
   "name": "python3"
  },
  "language_info": {
   "codemirror_mode": {
    "name": "ipython",
    "version": 3
   },
   "file_extension": ".py",
   "mimetype": "text/x-python",
   "name": "python",
   "nbconvert_exporter": "python",
   "pygments_lexer": "ipython3",
   "version": "3.11.4"
  }
 },
 "nbformat": 4,
 "nbformat_minor": 4
}
